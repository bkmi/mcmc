{
 "cells": [
  {
   "cell_type": "code",
   "execution_count": null,
   "metadata": {
    "collapsed": true
   },
   "outputs": [],
   "source": [
    "%matplotlib inline"
   ]
  },
  {
   "cell_type": "code",
   "execution_count": null,
   "metadata": {
    "collapsed": true
   },
   "outputs": [],
   "source": [
    "import matplotlib.pyplot as plt\n",
    "import numpy as np\n",
    "import scipy.stats\n",
    "import seaborn as sns\n",
    "import pandas as pd"
   ]
  },
  {
   "cell_type": "code",
   "execution_count": null,
   "metadata": {
    "collapsed": true
   },
   "outputs": [],
   "source": [
    "from banana import Banana"
   ]
  },
  {
   "cell_type": "markdown",
   "metadata": {},
   "source": [
    "# Samples from .rvs()"
   ]
  },
  {
   "cell_type": "code",
   "execution_count": null,
   "metadata": {},
   "outputs": [],
   "source": [
    "dim = 4\n",
    "b = Banana(mean=np.zeros(dim), cov=np.eye(dim), warp=500)\n",
    "data = b.rvs(10000)\n",
    "df = pd.DataFrame(data)\n",
    "\n",
    "sns.pairplot(df, plot_kws={'alpha': 0.6})"
   ]
  },
  {
   "cell_type": "markdown",
   "metadata": {},
   "source": [
    "# Riemann manifold Langevin and Hamiltonian Monte Carlo method\n",
    "http://onlinelibrary.wiley.com/doi/10.1111/j.1467-9868.2010.00765.x/full\n",
    "\n",
    "Method is hard coded for symmetric cov matrices."
   ]
  },
  {
   "cell_type": "code",
   "execution_count": null,
   "metadata": {
    "collapsed": true
   },
   "outputs": [],
   "source": [
    "def present(filename, timesfile=None):\n",
    "    data = np.load(filename)\n",
    "    if timesfile:\n",
    "        times = np.load(timesfile)\n",
    "        print('Total time: {}'.format(np.sum(times)))\n",
    "        print('Time per sample: {}'.format(np.sum(times)/data.shape[0]))\n",
    "    df = pd.DataFrame(data)\n",
    "    sns.pairplot(df, plot_kws={'alpha': 0.6})"
   ]
  },
  {
   "cell_type": "code",
   "execution_count": null,
   "metadata": {},
   "outputs": [],
   "source": [
    "present('samples_w2.npy', 'time_w2.npy')"
   ]
  },
  {
   "cell_type": "code",
   "execution_count": null,
   "metadata": {},
   "outputs": [],
   "source": [
    "present('samples_w15.npy', 'time_w15.npy')"
   ]
  },
  {
   "cell_type": "code",
   "execution_count": null,
   "metadata": {},
   "outputs": [],
   "source": [
    "present('samples_w15.npy', 'time_w15.npy')"
   ]
  },
  {
   "cell_type": "code",
   "execution_count": null,
   "metadata": {
    "collapsed": true
   },
   "outputs": [],
   "source": [
    "present('samples_w15_auto.npy', 'time_w15_auto.npy')"
   ]
  }
 ],
 "metadata": {
  "kernelspec": {
   "display_name": "Python 3",
   "language": "python",
   "name": "python3"
  },
  "language_info": {
   "codemirror_mode": {
    "name": "ipython",
    "version": 3
   },
   "file_extension": ".py",
   "mimetype": "text/x-python",
   "name": "python",
   "nbconvert_exporter": "python",
   "pygments_lexer": "ipython3",
   "version": "3.6.3"
  }
 },
 "nbformat": 4,
 "nbformat_minor": 2
}
