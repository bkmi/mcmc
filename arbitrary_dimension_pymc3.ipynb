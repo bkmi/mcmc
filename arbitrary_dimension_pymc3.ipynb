{
 "cells": [
  {
   "cell_type": "code",
   "execution_count": null,
   "metadata": {
    "collapsed": true
   },
   "outputs": [],
   "source": [
    "%matplotlib inline"
   ]
  },
  {
   "cell_type": "code",
   "execution_count": null,
   "metadata": {
    "collapsed": true
   },
   "outputs": [],
   "source": [
    "import matplotlib.pyplot as plt\n",
    "import numpy as np\n",
    "import pymc3 as pm\n",
    "import scipy.stats\n",
    "from sampled import sampled\n",
    "import seaborn as sns\n",
    "import theano.tensor as tt\n",
    "import pandas as pd"
   ]
  },
  {
   "cell_type": "markdown",
   "metadata": {},
   "source": [
    "# Concentration of measure\n",
    "We locate the typical set in higher dimensions. As dimension increases, the typical set of a gaussian becomes concentrated on a \"narrower\" region."
   ]
  },
  {
   "cell_type": "code",
   "execution_count": null,
   "metadata": {
    "collapsed": true
   },
   "outputs": [],
   "source": [
    "for N in (2, 4, 8, 16, 32):\n",
    "    x = scipy.stats.multivariate_normal(cov=np.eye(N) / N).rvs(size=10000)\n",
    "    _ = sns.distplot(np.linalg.norm(x, axis=1))\n",
    "\n",
    "plt.xlim(0, 2.5)\n",
    "plt.ylim(0, 3.5)"
   ]
  },
  {
   "cell_type": "code",
   "execution_count": null,
   "metadata": {
    "collapsed": true
   },
   "outputs": [],
   "source": [
    "def jointplot(ary):\n",
    "    \"\"\"Helper to plot everything consistently\"\"\"\n",
    "    sns.jointplot(*ary.T, alpha=0.1, stat_func=None, xlim=(-1.2, 1.2), ylim=(-1.2, 1.2))"
   ]
  },
  {
   "cell_type": "markdown",
   "metadata": {},
   "source": [
    "# Unit Shell Distribution\n",
    "\n",
    "https://chi-feng.github.io/mcmc-demo/app.html"
   ]
  },
  {
   "cell_type": "code",
   "execution_count": null,
   "metadata": {
    "collapsed": true
   },
   "outputs": [],
   "source": [
    "def tt_unit_shell_pdf(scale):\n",
    "    def logp(x):\n",
    "         return -tt.square((1 - x.norm(2)) / scale)\n",
    "    return logp\n",
    "\n",
    "@sampled\n",
    "def unit_shell(dim=2, scale=0.001, **observed):\n",
    "    testval = np.ones(dim) / np.linalg.norm(np.ones(dim))\n",
    "    pm.DensityDist('unit_shell', logp=tt_unit_shell_pdf(scale), shape=dim, testval=testval)"
   ]
  },
  {
   "cell_type": "code",
   "execution_count": null,
   "metadata": {},
   "outputs": [],
   "source": [
    "with unit_shell(dim=3, scale=0.01):\n",
    "    step = pm.Metropolis()\n",
    "    metropolis_sample = pm.sample(draws=1000, step=step)"
   ]
  },
  {
   "cell_type": "code",
   "execution_count": null,
   "metadata": {},
   "outputs": [],
   "source": [
    "df = pd.DataFrame(metropolis_sample.get_values('unit_shell'))\n",
    "\n",
    "sns.pairplot(df)\n",
    "pm.traceplot(metropolis_sample, ['unit_shell'], figsize=(12,6))"
   ]
  },
  {
   "cell_type": "markdown",
   "metadata": {},
   "source": [
    "# Multivariate Gaussian\n",
    "\n",
    "Finding a multivariate gaussian without adapatation and a \"bad\" initial guess sample"
   ]
  },
  {
   "cell_type": "code",
   "execution_count": null,
   "metadata": {
    "collapsed": true
   },
   "outputs": [],
   "source": [
    "def create_covariance(dim, off_diag=0.5, verbose=False):\n",
    "    out = np.ones((dim, dim)) * off_diag\n",
    "    np.fill_diagonal(out, 1) / dim\n",
    "    if verbose:\n",
    "        print(out)\n",
    "    return out"
   ]
  },
  {
   "cell_type": "code",
   "execution_count": null,
   "metadata": {
    "collapsed": true
   },
   "outputs": [],
   "source": [
    "def tt_gaussian_pdf(mean, cov):\n",
    "    mean = np.asarray(mean)\n",
    "    cov = np.asarray(cov)\n",
    "    dim = mean.shape[0]\n",
    "    \n",
    "    constant = -np.log((2*np.pi)**dim * np.linalg.det(cov))/2\n",
    "    covinv = np.linalg.inv(cov)\n",
    "    def logp(x):\n",
    "        return constant - tt.dot(tt.dot((x - mean).T, covinv), (x - mean))/2\n",
    "    return logp\n",
    "\n",
    "@sampled\n",
    "def gauss(mean=[0,0], cov=[[1,0],[0,1]], **observed):\n",
    "    mean = np.asarray(mean)\n",
    "    cov = np.asarray(cov)\n",
    "    dim = mean.shape[0]\n",
    "    testval = np.zeros(dim)\n",
    "    pm.DensityDist('gauss', logp=tt_gaussian_pdf(mean, cov), shape=dim, testval=testval)"
   ]
  },
  {
   "cell_type": "code",
   "execution_count": null,
   "metadata": {},
   "outputs": [],
   "source": [
    "dim = 5\n",
    "mean = np.zeros(dim)\n",
    "cov = np.eye(dim) / dim\n",
    "\n",
    "starting_point = np.ones(dim) * 5\n",
    "\n",
    "with gauss(mean=mean, cov=cov):\n",
    "    step = pm.Metropolis()\n",
    "    metropolis_sample = pm.sample(draws=1000, step=step, start={'gauss': starting_point}, \n",
    "                                  tune=0, discard_tuned_samples=False)"
   ]
  },
  {
   "cell_type": "code",
   "execution_count": null,
   "metadata": {},
   "outputs": [],
   "source": [
    "df = pd.DataFrame(metropolis_sample.get_values('gauss'))\n",
    "sns.pairplot(df)\n",
    "pm.traceplot(metropolis_sample, ['gauss'], figsize=(12,6))"
   ]
  },
  {
   "cell_type": "markdown",
   "metadata": {},
   "source": [
    "# Banana"
   ]
  },
  {
   "cell_type": "code",
   "execution_count": null,
   "metadata": {
    "collapsed": true
   },
   "outputs": [],
   "source": [
    "def tt_banana_pdf(mean, cov, warp):\n",
    "    mean = np.asarray(mean)\n",
    "    cov = np.asarray(cov)\n",
    "    dim = mean.shape[0]\n",
    "    \n",
    "    constant = -np.log((2*np.pi)**dim * np.linalg.det(cov))/2\n",
    "    covinv = np.linalg.inv(cov)\n",
    "    \n",
    "    def logp(x):\n",
    "        distortion = np.ones(dim) * warp * x[0]**2\n",
    "        tt.set_subtensor(distortion[0], 0)\n",
    "        return constant - tt.dot(tt.dot((x + distortion - mean).T, covinv), (x + distortion - mean))/2\n",
    "    return logp\n",
    "\n",
    "@sampled\n",
    "def banana(mean=[0,0], cov=[[1,0],[0,1]], warp=0.9, **observed):\n",
    "    mean = np.asarray(mean)\n",
    "    cov = np.asarray(cov)\n",
    "    dim = mean.shape[0]\n",
    "    testval = np.zeros(dim)\n",
    "    pm.DensityDist('banana', logp=tt_banana_pdf(mean, cov, warp), shape=dim, testval=testval)"
   ]
  },
  {
   "cell_type": "code",
   "execution_count": null,
   "metadata": {},
   "outputs": [],
   "source": [
    "dim = 5\n",
    "mean = np.zeros(dim)\n",
    "cov = np.eye(dim)/dim\n",
    "warp = 1\n",
    "\n",
    "starting_point = np.ones(dim) * 10\n",
    "\n",
    "with banana(mean=mean, cov=cov, warp=warp):\n",
    "    step = pm.Metropolis()\n",
    "    metropolis_sample = pm.sample(draws=10000, step=step, start={'banana': starting_point}, \n",
    "                                  tune=500, discard_tuned_samples=True)"
   ]
  },
  {
   "cell_type": "code",
   "execution_count": null,
   "metadata": {},
   "outputs": [],
   "source": [
    "df = pd.DataFrame(metropolis_sample.get_values('banana'))\n",
    "sns.pairplot(df)"
   ]
  },
  {
   "cell_type": "code",
   "execution_count": null,
   "metadata": {
    "collapsed": true
   },
   "outputs": [],
   "source": []
  }
 ],
 "metadata": {
  "kernelspec": {
   "display_name": "Python 3",
   "language": "python",
   "name": "python3"
  },
  "language_info": {
   "codemirror_mode": {
    "name": "ipython",
    "version": 3
   },
   "file_extension": ".py",
   "mimetype": "text/x-python",
   "name": "python",
   "nbconvert_exporter": "python",
   "pygments_lexer": "ipython3",
   "version": "3.6.3"
  }
 },
 "nbformat": 4,
 "nbformat_minor": 2
}
