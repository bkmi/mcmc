{
 "cells": [
  {
   "cell_type": "code",
   "execution_count": null,
   "metadata": {
    "collapsed": true
   },
   "outputs": [],
   "source": [
    "%matplotlib inline"
   ]
  },
  {
   "cell_type": "code",
   "execution_count": null,
   "metadata": {
    "collapsed": true
   },
   "outputs": [],
   "source": [
    "import matplotlib.pyplot as plt\n",
    "import numpy as np\n",
    "import pymc3 as pm\n",
    "import scipy.stats\n",
    "from sampled import sampled\n",
    "import seaborn as sns\n",
    "import theano.tensor as tt\n",
    "import pandas as pd"
   ]
  },
  {
   "cell_type": "markdown",
   "metadata": {},
   "source": [
    "# Concentration of measure\n",
    "We locate the typical set in higher dimensions. As dimension increases, the typical set of a gaussian becomes concentrated on a \"narrower\" region."
   ]
  },
  {
   "cell_type": "code",
   "execution_count": null,
   "metadata": {},
   "outputs": [],
   "source": [
    "for N in (2, 4, 8, 16, 32):\n",
    "    x = scipy.stats.multivariate_normal(cov=np.eye(N) / N).rvs(size=10000)\n",
    "    _ = sns.distplot(np.linalg.norm(x, axis=1))\n",
    "\n",
    "plt.xlim(0, 2.5)\n",
    "plt.ylim(0, 3.5)\n",
    "\n",
    "plt.savefig('pics/concentration_of_measure.png', bbox_inches='tight')"
   ]
  },
  {
   "cell_type": "code",
   "execution_count": null,
   "metadata": {
    "collapsed": true
   },
   "outputs": [],
   "source": [
    "def jointplot(ary):\n",
    "    \"\"\"Helper to plot everything consistently\"\"\"\n",
    "    sns.jointplot(*ary.T, alpha=0.1, stat_func=None, xlim=(-1.2, 1.2), ylim=(-1.2, 1.2))"
   ]
  },
  {
   "cell_type": "code",
   "execution_count": null,
   "metadata": {
    "collapsed": true
   },
   "outputs": [],
   "source": [
    "def pair_contour_plot(data):\n",
    "    g = sns.PairGrid(df)\n",
    "    g.map_diag(sns.kdeplot)\n",
    "    g.map_offdiag(sns.kdeplot, cmap=\"Blues_d\", n_levels=6);"
   ]
  },
  {
   "cell_type": "markdown",
   "metadata": {},
   "source": [
    "# Unit Shell Distribution\n",
    "\n",
    "https://chi-feng.github.io/mcmc-demo/app.html"
   ]
  },
  {
   "cell_type": "code",
   "execution_count": null,
   "metadata": {
    "collapsed": true
   },
   "outputs": [],
   "source": [
    "def tt_unit_shell_pdf(scale):\n",
    "    def logp(x):\n",
    "         return -tt.square((1 - x.norm(2)) / scale)\n",
    "    return logp\n",
    "\n",
    "@sampled\n",
    "def unit_shell(dim=2, scale=0.001, **observed):\n",
    "    testval = np.ones(dim) / np.linalg.norm(np.ones(dim))\n",
    "    pm.DensityDist('unit_shell', logp=tt_unit_shell_pdf(scale), shape=dim, testval=testval)"
   ]
  },
  {
   "cell_type": "code",
   "execution_count": null,
   "metadata": {},
   "outputs": [],
   "source": [
    "dim = 2\n",
    "draws = 10000\n",
    "\n",
    "with unit_shell(dim=dim, scale=0.01):\n",
    "    step = pm.Metropolis()\n",
    "    metropolis_sample = pm.sample(draws=draws, step=step, tune=500)"
   ]
  },
  {
   "cell_type": "code",
   "execution_count": null,
   "metadata": {},
   "outputs": [],
   "source": [
    "df = pd.DataFrame(metropolis_sample.get_values('unit_shell'))\n",
    "save = 0\n",
    "\n",
    "sns.pairplot(df)\n",
    "if save:\n",
    "    plt.savefig('pics/shell_mrw_tuning_dim{}_scatter.png'.format(dim), \n",
    "                bbox_inches='tight')\n",
    "\n",
    "pair_contour_plot(df)\n",
    "if save:\n",
    "    plt.savefig('pics/shell_mrw_tuning_dim{}_contour.png'.format(dim),\n",
    "            bbox_inches='tight')\n",
    "\n",
    "pm.traceplot(metropolis_sample, ['unit_shell'], figsize=(12,6))\n",
    "if save:\n",
    "    plt.savefig('pics/shell_mrw_tuning_dim{}_trace.png'.format(dim),\n",
    "            bbox_inches='tight')"
   ]
  },
  {
   "cell_type": "markdown",
   "metadata": {},
   "source": [
    "# Hamiltonian Methods\n",
    "\n",
    "Let's try on something really simple, sampling a normal distribution in 1D"
   ]
  },
  {
   "cell_type": "markdown",
   "metadata": {},
   "source": [
    "$$H(q, p) = -\\log \\pi(p | q) - \\log \\pi(q)$$\n",
    "$$\\frac{dq}{dt} = \\frac{\\partial H}{\\partial p}$$\n",
    "$$\\frac{dp}{dt} = -\\frac{\\partial H}{\\partial q}$$"
   ]
  },
  {
   "cell_type": "markdown",
   "metadata": {},
   "source": [
    "Example:\n",
    "\n",
    "Let $\\pi(q) = \\mathcal{N}(0, 1)$, and $\\pi(p | q) = \\mathcal{N}(0, 1),$ so \n",
    "$$ H(q, p) = C + p^2 + q^2.$$\n",
    "\n",
    "We can manually compute the gradients for these distributions in order to plot the HMC paths in 2 dimensions: 1 for position, 1 for momentum."
   ]
  },
  {
   "cell_type": "code",
   "execution_count": null,
   "metadata": {
    "collapsed": true
   },
   "outputs": [],
   "source": [
    "def gen_data(position, momentum, n=10000):\n",
    "    \"\"\"Generate a background density plot for the position and momentum distributions.  Not used for sampling.\"\"\"\n",
    "    q = position.rvs(n)\n",
    "    p = momentum(q).rvs()\n",
    "    return np.column_stack([q, p])"
   ]
  },
  {
   "cell_type": "code",
   "execution_count": null,
   "metadata": {
    "collapsed": true
   },
   "outputs": [],
   "source": [
    "def leapfrog(q, p, dHdq, dHdp, step_size, n_steps):\n",
    "    \"\"\"Perform the leapfrog integration.  \n",
    "    \n",
    "    Similar to the implementations in PyMC3, but \n",
    "    returns an array of all the points in the path\n",
    "    for plotting.  It is a pretty general \n",
    "    implementation, in that it doesnt hardcode\n",
    "    the potential or kinetic energies.\n",
    "    \n",
    "    Args:\n",
    "        q: current position\n",
    "        p: current momentum\n",
    "        dHdq: see Hamilton's equations above\n",
    "        dHdp: see Hamilton's equations above\n",
    "        step_size: How big of a step to take\n",
    "        n_steps: How many steps to take\n",
    "    \n",
    "    Returns:\n",
    "        (`n_steps` x 2) numpy array showing the \n",
    "        path through (position, momentum) space \n",
    "        the Hamiltonian path took.\n",
    "    \"\"\"\n",
    "    data = [[q, p]]\n",
    "    p += 0.5 * step_size * -dHdq(q, p)\n",
    "    q += step_size * dHdp(q, p)\n",
    "    data.append([q, p])\n",
    "    for _ in range(n_steps - 1):\n",
    "        p += step_size * -dHdq(q, p)\n",
    "        q += step_size * dHdp(q, p)\n",
    "        data.append([q, p])\n",
    "    p += 0.5 * step_size * -dHdq(q, p)\n",
    "    return np.array(data)    "
   ]
  },
  {
   "cell_type": "code",
   "execution_count": null,
   "metadata": {
    "collapsed": true
   },
   "outputs": [],
   "source": [
    "def leapfrog_paths(position, momentum, dHdq, dHdp, n=10):\n",
    "    \"\"\"Get a number `n` of paths from the HMC sampler.\n",
    "\n",
    "    This is not quite as general -- I hardcode a step \n",
    "    size of 0.01 and 100 steps, since a path length of 1\n",
    "    looked pretty good (and *not* because it is the best\n",
    "    choice).  Returns an iterator of plot data.\n",
    "    \"\"\"\n",
    "    q = position.rvs()\n",
    "    p = momentum(q).rvs()\n",
    "    for _ in range(n):\n",
    "        path = leapfrog(q, p, dHdq, dHdp, 0.01, 100)\n",
    "        yield path\n",
    "        q, _ = path[-1]\n",
    "        p = momentum(q).rvs()"
   ]
  },
  {
   "cell_type": "code",
   "execution_count": null,
   "metadata": {
    "collapsed": true
   },
   "outputs": [],
   "source": [
    "position = scipy.stats.norm(0, 1)\n",
    "momentum = lambda q: scipy.stats.norm(0, np.ones(q.shape))\n",
    "dHdp = lambda q, p: 2 * p\n",
    "dHdq = lambda q, p: 2 * q"
   ]
  },
  {
   "cell_type": "code",
   "execution_count": null,
   "metadata": {},
   "outputs": [],
   "source": [
    "#  First plot a KDE of the joint pdf\n",
    "X = gen_data(position, momentum)\n",
    "g = sns.jointplot(*X.T, kind='kde', stat_func=None, xlim=(-3, 3), ylim=(-3, 3), alpha=0.5)\n",
    "\n",
    "#  Now plot the Leapfrog paths on top of that\n",
    "for path in leapfrog_paths(position, momentum, dHdq, dHdp, 15):\n",
    "    g.ax_joint.plot(*path.T, linewidth=3)"
   ]
  },
  {
   "cell_type": "markdown",
   "metadata": {},
   "source": [
    "# Unit Shell with Hamiltonian Monte Carlo"
   ]
  },
  {
   "cell_type": "markdown",
   "metadata": {},
   "source": [
    "$$H(q, p) = -\\log \\pi(p | q) - \\log \\pi(q)$$\n",
    "$$\\frac{dq}{dt} = \\frac{\\partial H}{\\partial p}$$\n",
    "$$\\frac{dp}{dt} = -\\frac{\\partial H}{\\partial q}$$"
   ]
  },
  {
   "cell_type": "markdown",
   "metadata": {},
   "source": [
    "Example:\n",
    "\n",
    "Let $\\log \\pi(q) = -\\left(\\frac{1-|q|}{scale}\\right)^2$, and $\\pi(p | q) = \\mathcal{N}(0, 1),$ so \n",
    "$$ H(q, p) = C + p^2 -\\left(\\frac{1-|q|}{scale}\\right)^2$$"
   ]
  },
  {
   "cell_type": "code",
   "execution_count": null,
   "metadata": {},
   "outputs": [],
   "source": [
    "dim = 5\n",
    "draws = 1000\n",
    "\n",
    "with unit_shell(dim=dim, scale=0.01):\n",
    "    step = pm.HamiltonianMC(scaling=np.ones(dim) * 0.5)\n",
    "    metropolis_sample = pm.sample(draws=draws, step=step)"
   ]
  },
  {
   "cell_type": "code",
   "execution_count": null,
   "metadata": {},
   "outputs": [],
   "source": [
    "df = pd.DataFrame(metropolis_sample.get_values('unit_shell'))\n",
    "save = 0\n",
    "\n",
    "sns.pairplot(df)\n",
    "if save:\n",
    "    plt.savefig('pics/shell_mrw_tuning_dim{}_scatter.png'.format(dim), \n",
    "                bbox_inches='tight')\n",
    "\n",
    "# pair_contour_plot(df)\n",
    "if save:\n",
    "    plt.savefig('pics/shell_mrw_tuning_dim{}_contour.png'.format(dim),\n",
    "            bbox_inches='tight')\n",
    "\n",
    "pm.traceplot(metropolis_sample, ['unit_shell'], figsize=(12,6))\n",
    "if save:\n",
    "    plt.savefig('pics/shell_mrw_tuning_dim{}_trace.png'.format(dim),\n",
    "                bbox_inches='tight')"
   ]
  },
  {
   "cell_type": "markdown",
   "metadata": {},
   "source": [
    "# Multivariate Gaussian\n",
    "\n",
    "Finding a multivariate gaussian without adapatation and a \"bad\" initial guess sample"
   ]
  },
  {
   "cell_type": "code",
   "execution_count": null,
   "metadata": {
    "collapsed": true
   },
   "outputs": [],
   "source": [
    "def create_covariance(dim, off_diag=0.5, verbose=False):\n",
    "    out = np.ones((dim, dim)) * off_diag\n",
    "    np.fill_diagonal(out, 1) / dim\n",
    "    if verbose:\n",
    "        print(out)\n",
    "    return out"
   ]
  },
  {
   "cell_type": "code",
   "execution_count": null,
   "metadata": {
    "collapsed": true
   },
   "outputs": [],
   "source": [
    "def tt_gaussian_pdf(mean, cov):\n",
    "    mean = np.asarray(mean)\n",
    "    cov = np.asarray(cov)\n",
    "    dim = mean.shape[0]\n",
    "    \n",
    "    constant = -np.log((2*np.pi)**dim * np.linalg.det(cov))/2\n",
    "    covinv = np.linalg.inv(cov)\n",
    "    def logp(x):\n",
    "        return constant - tt.dot(tt.dot((x - mean).T, covinv), (x - mean))/2\n",
    "    return logp\n",
    "\n",
    "@sampled\n",
    "def gauss(mean=[0,0], cov=[[1,0],[0,1]], **observed):\n",
    "    mean = np.asarray(mean)\n",
    "    cov = np.asarray(cov)\n",
    "    dim = mean.shape[0]\n",
    "    testval = np.zeros(dim)\n",
    "    pm.DensityDist('gauss', logp=tt_gaussian_pdf(mean, cov), shape=dim, testval=testval)"
   ]
  },
  {
   "cell_type": "code",
   "execution_count": null,
   "metadata": {
    "collapsed": true
   },
   "outputs": [],
   "source": [
    "dim = 5\n",
    "mean = np.zeros(dim)\n",
    "cov = np.eye(dim) / dim\n",
    "\n",
    "starting_point = np.ones(dim) * 5\n",
    "\n",
    "with gauss(mean=mean, cov=cov):\n",
    "    step = pm.HamiltonianMC(scaling=cov, is_cov=True)\n",
    "    metropolis_sample = pm.sample(draws=1000, step=step, start={'gauss': starting_point}, \n",
    "                                  tune=500, discard_tuned_samples=False)"
   ]
  },
  {
   "cell_type": "code",
   "execution_count": null,
   "metadata": {
    "collapsed": true
   },
   "outputs": [],
   "source": [
    "df = pd.DataFrame(metropolis_sample.get_values('gauss'))\n",
    "sns.pairplot(df)\n",
    "pm.traceplot(metropolis_sample, ['gauss'], figsize=(12,6))"
   ]
  },
  {
   "cell_type": "markdown",
   "metadata": {},
   "source": [
    "# Banana"
   ]
  },
  {
   "cell_type": "code",
   "execution_count": null,
   "metadata": {
    "collapsed": true
   },
   "outputs": [],
   "source": [
    "def tt_banana_pdf(mean, cov, warp):\n",
    "    mean = np.asarray(mean)\n",
    "    cov = np.asarray(cov)\n",
    "    dim = mean.shape[0]\n",
    "    \n",
    "    constant = -np.log((2*np.pi)**dim * np.linalg.det(cov))/2\n",
    "    covinv = np.linalg.inv(cov)\n",
    "    \n",
    "    def logp(x):\n",
    "        distortion = np.ones(dim) * warp * x[0]**2\n",
    "        tt.set_subtensor(distortion[0], 0)\n",
    "        return constant - tt.dot(tt.dot((x + distortion - mean).T, covinv), (x + distortion - mean))/2\n",
    "    return logp\n",
    "\n",
    "@sampled\n",
    "def banana(mean=[0,0], cov=[[1,0],[0,1]], warp=0.9, **observed):\n",
    "    mean = np.asarray(mean)\n",
    "    cov = np.asarray(cov)\n",
    "    dim = mean.shape[0]\n",
    "    testval = np.zeros(dim)\n",
    "    pm.DensityDist('banana', logp=tt_banana_pdf(mean, cov, warp), shape=dim, testval=testval)"
   ]
  },
  {
   "cell_type": "code",
   "execution_count": null,
   "metadata": {},
   "outputs": [],
   "source": [
    "dim = 2\n",
    "mean = np.zeros(dim)\n",
    "cov = np.eye(dim)/dim\n",
    "warp = 0.5\n",
    "\n",
    "starting_point = np.zeros(dim)\n",
    "\n",
    "with banana(mean=mean, cov=cov, warp=warp):\n",
    "    step = pm.Metropolis()\n",
    "    step = pm.NUTS()\n",
    "    metropolis_sample = pm.sample(draws=1000, step=step, \n",
    "                                  start={'banana': starting_point}, \n",
    "                                  tune=500, discard_tuned_samples=True)"
   ]
  },
  {
   "cell_type": "code",
   "execution_count": null,
   "metadata": {},
   "outputs": [],
   "source": [
    "df = pd.DataFrame(metropolis_sample.get_values('banana'))\n",
    "sns.pairplot(df)\n",
    "\n",
    "# pair_contour_plot(df)\n",
    "\n",
    "pm.traceplot(metropolis_sample)"
   ]
  },
  {
   "cell_type": "code",
   "execution_count": null,
   "metadata": {
    "collapsed": true
   },
   "outputs": [],
   "source": []
  }
 ],
 "metadata": {
  "kernelspec": {
   "display_name": "Python 3",
   "language": "python",
   "name": "python3"
  },
  "language_info": {
   "codemirror_mode": {
    "name": "ipython",
    "version": 3
   },
   "file_extension": ".py",
   "mimetype": "text/x-python",
   "name": "python",
   "nbconvert_exporter": "python",
   "pygments_lexer": "ipython3",
   "version": "3.6.3"
  }
 },
 "nbformat": 4,
 "nbformat_minor": 2
}
