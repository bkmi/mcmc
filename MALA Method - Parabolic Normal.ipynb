{
 "cells": [
  {
   "cell_type": "code",
   "execution_count": null,
   "metadata": {
    "collapsed": true
   },
   "outputs": [],
   "source": [
    "import numpy as np\n",
    "import pandas as pd\n",
    "import scipy.stats\n",
    "import scipy.signal\n",
    "import matplotlib.pyplot as plt"
   ]
  },
  {
   "cell_type": "markdown",
   "metadata": {},
   "source": [
    "# General Setup\n",
    "\n",
    "We have a target distribution and we will try to sample from it using Metropolis-Hastings MCMC with MALA proposal technqiues using various proposal distributions.\n",
    "\n",
    "Some useful links were found here:  \n",
    "https://en.wikipedia.org/wiki/Metropolis-adjusted_Langevin_algorithm  \n",
    "http://www.mcmchandbook.net/HandbookChapter1.pdf  \n",
    "https://theclevermachine.wordpress.com/2012/11/19/a-gentle-introduction-to-markov-chain-monte-carlo-mcmc/  "
   ]
  },
  {
   "cell_type": "code",
   "execution_count": null,
   "metadata": {},
   "outputs": [],
   "source": [
    "# Target Distribution (Stationary Distribution of the Markov Chain)\n",
    "# Parabolic Normal Distribution in 2D\n",
    "mean = [0, 0]\n",
    "cov = [[1, 0], [0, 100]]\n",
    "\n",
    "target_dist = scipy.stats.multivariate_normal(mean, cov)\n",
    "\n",
    "def warp(a):\n",
    "        a = np.asarray(a)\n",
    "        a[:,0] = a[:, 0] + 0.05 * a[:, 1]**2\n",
    "        return a\n",
    "\n",
    "def target_dist_rvs(target_dist, samples):\n",
    "    return warp(target_dist.rvs(samples))\n",
    "\n",
    "def target_dist_logpdf(target_dist, state):\n",
    "    return np.log(warp(target_dist.pdf(state)))\n",
    "    \n",
    "\n",
    "data = target_dist_rvs(target_dist, 1000)\n",
    "df = pd.DataFrame(data, columns=[\"x\", \"y\"])\n",
    "plt.plot(df.x, df.y, 'o')\n",
    "plt.axis('equal')\n",
    "plt.show()"
   ]
  },
  {
   "cell_type": "code",
   "execution_count": null,
   "metadata": {
    "collapsed": true
   },
   "outputs": [],
   "source": [
    "# Random Walk MCMC Function\n",
    "def metropolis_step(state, proposal_func, target_logpdf, trans_prob):\n",
    "    proposed_state = proposal_func(state, target_logpdf)\n",
    "    \n",
    "    alpha = (target_logpdf(proposed_state) + np.log(trans_prob(proposed_state, state, target_logpdf)) - \n",
    "             target_logpdf(state) - np.log(trans_prob(state, proposed_state, target_logpdf)))\n",
    "    acceptance_prob = min([0, alpha])\n",
    "    \n",
    "    if np.log(np.random.rand()) < acceptance_prob:\n",
    "        return proposed_state\n",
    "    else:\n",
    "        return state\n",
    "    \n",
    "# Acceptance rate at every step\n",
    "def acceptance_rate_per_step(states):\n",
    "    states = np.asarray(states)\n",
    "    steps = 0\n",
    "    accepted = 0\n",
    "    acc_rate = []\n",
    "    for i in range(1,len(states)):\n",
    "        steps += 1\n",
    "        if (np.isclose(states[i,0], states[i-1,0], rtol=1e-10, atol=1e-15) and \n",
    "            np.isclose(states[i,1], states[i-1,1], rtol=1e-10, atol=1e-15)):\n",
    "            accepted += 1\n",
    "        acc_rate.append(accepted/steps)\n",
    "    return acc_rate"
   ]
  },
  {
   "cell_type": "markdown",
   "metadata": {},
   "source": [
    "## MALA Proposal\n",
    "\n",
    "We propose by suggesting the state plus the gradient of the target distribution at the state plus a small random motion.\n",
    "\n",
    "Note, for reference, the derivate with respect to the state of our target distribution is given by:\n",
    "\\begin{equation}\n",
    "    \\frac{\\partial \\pi(\\mathbf{x})}{\\partial\\mathbf{x}}=-\\frac{1}{\\sqrt{det(2\\pi\\mathbf{\\Sigma})}}exp\\left[-\\frac{1}{2}(\\mathbf{x}-\\mathbf{m})^{T}\\mathbf{\\Sigma}^{-1}(\\mathbf{x}-\\mathbf{m})\\right]\\mathbf{\\Sigma}^{-1}(\\mathbf{x}-\\mathbf{m})\n",
    "\\end{equation}\n",
    "\n",
    "However, this is a bit irrelevant since I am looking for the gradient at the state. I.e. $\\nabla\\pi(\\textbf{x})$ I will do it numerically."
   ]
  },
  {
   "cell_type": "code",
   "execution_count": null,
   "metadata": {
    "collapsed": true
   },
   "outputs": [],
   "source": [
    "def grad_target_dist(state, target_dist_logpdf, x_step=1e-9, y_step=1e-9):\n",
    "    loc = [[state + np.asarray([-x_step, y_step]), state + np.asarray([0, y_step]), state + np.asarray([x_step, y_step])], \n",
    "           [state + np.asarray([-x_step, 0]), state + np.asarray([0, 0]), state + np.asarray([x_step, 0])],\n",
    "           [state + np.asarray([-x_step, -y_step]), state + np.asarray([0, -y_step]), state + np.asarray([x_step, -y_step])]]\n",
    "    pdf = np.array(list(map(target_dist_logpdf, loc)))\n",
    "    gradpdf = np.gradient(pdf, x_step, y_step)\n",
    "    return np.asarray([gradpdf[0][1,1], gradpdf[1][1,1]])\n",
    "\n",
    "def proposal_mala(state, target_dist_logpdf, tau=1):\n",
    "    return (np.asarray(state) + \n",
    "            tau * grad_target_dist(state, target_dist_logpdf) + \n",
    "            np.sqrt(2 * tau) * scipy.stats.multivariate_normal([0,0], tau * np.eye(2)).rvs(1))\n",
    "\n",
    "def cond_prob_mala(from_state, to_state, target_dist_logpdf, tau=1):\n",
    "    to_state = np.asarray(to_state)\n",
    "    from_state = np.asarray(from_state)\n",
    "    return np.exp((-4 * tau)**(-1) * \n",
    "                  np.linalg.norm(to_state - from_state - tau * grad_target_dist(from_state, target_dist_logpdf))**2)"
   ]
  },
  {
   "cell_type": "code",
   "execution_count": null,
   "metadata": {
    "collapsed": true
   },
   "outputs": [],
   "source": [
    "# MCMC Execution\n",
    "states = [np.array([0,0])]\n",
    "steps = 5000\n",
    "\n",
    "for i in range(steps):\n",
    "    states.append(metropolis_step(states[-1], proposal_mala, target_dist.logpdf, cond_prob_mala))\n",
    "    \n",
    "states = np.asarray(states)"
   ]
  },
  {
   "cell_type": "code",
   "execution_count": null,
   "metadata": {},
   "outputs": [],
   "source": [
    "# Acceptance rate plot\n",
    "acps = acceptance_rate_per_step(states)\n",
    "plt.figure(figsize=(8, 4))\n",
    "plt.plot(range(steps), acps)\n",
    "plt.xlabel('Steps')\n",
    "plt.ylabel('Acceptance Rate')\n",
    "plt.show()"
   ]
  },
  {
   "cell_type": "code",
   "execution_count": null,
   "metadata": {},
   "outputs": [],
   "source": [
    "# Sample and trace plots\n",
    "df = pd.DataFrame(states, columns=[\"x\", \"y\"])\n",
    "\n",
    "plt.figure(1, figsize=(8,8))\n",
    "plt.subplot(121)\n",
    "plt.scatter(df.x, df.y, c=target_dist.logpdf(states))\n",
    "plt.axis('equal')\n",
    "plt.title('Samples plot')\n",
    "plt.xlabel('x')\n",
    "plt.ylabel('y')\n",
    "\n",
    "plt.subplot(222)\n",
    "plt.plot(np.arange(states.shape[0]), df.x)\n",
    "plt.title('Trace plot')\n",
    "plt.xlabel('Steps')\n",
    "plt.ylabel('x')\n",
    "\n",
    "plt.subplot(224)\n",
    "plt.scatter(np.arange(states.shape[0]), df.y)\n",
    "plt.xlabel('Steps')\n",
    "plt.ylabel('y')\n",
    "\n",
    "plt.show()"
   ]
  },
  {
   "cell_type": "code",
   "execution_count": null,
   "metadata": {},
   "outputs": [],
   "source": [
    "# All lags autocorrelation\n",
    "autocorx = scipy.signal.correlate(states[:,0], states[:,0])\n",
    "autocory = scipy.signal.correlate(states[:,1], states[:,1])\n",
    "\n",
    "fig, (ax_autox, ax_autoy) = plt.subplots(2, 1, sharex=True, figsize=(7,7))\n",
    "\n",
    "ax_autox.plot(range(-int(autocorx.size/2), int(autocorx.size/2) + 1), autocorx)\n",
    "ax_autox.set_ylim(-1000,1000)\n",
    "ax_autox.set_title('x')\n",
    "ax_autox.set_ylabel('Autocorrelation')\n",
    "\n",
    "ax_autoy.plot(range(-int(autocory.size/2), int(autocory.size/2) + 1), autocory)\n",
    "# ax_autoy.set_ylim(-1000,1000)\n",
    "ax_autoy.set_title('y')\n",
    "ax_autoy.set_ylabel('Autocorrelation')\n",
    "ax_autoy.set_xlabel('Lag')\n",
    "plt.show()"
   ]
  },
  {
   "cell_type": "code",
   "execution_count": null,
   "metadata": {
    "collapsed": true
   },
   "outputs": [],
   "source": []
  }
 ],
 "metadata": {
  "kernelspec": {
   "display_name": "Python 3",
   "language": "python",
   "name": "python3"
  },
  "language_info": {
   "codemirror_mode": {
    "name": "ipython",
    "version": 3
   },
   "file_extension": ".py",
   "mimetype": "text/x-python",
   "name": "python",
   "nbconvert_exporter": "python",
   "pygments_lexer": "ipython3",
   "version": "3.6.1"
  }
 },
 "nbformat": 4,
 "nbformat_minor": 2
}
