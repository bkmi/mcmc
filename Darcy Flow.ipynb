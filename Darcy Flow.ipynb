{
 "cells": [
  {
   "cell_type": "markdown",
   "metadata": {},
   "source": [
    "# Darcy Flow\n",
    "Including forward and inverse problem solver for 1D. Darcy Flow in \n",
    "\n",
    "Darcy Flow\n",
    "\\begin{equation}\n",
    "    \\nabla \\cdot ( k(x) \\nabla u(x) ) = f(x)\n",
    "\\end{equation}\n",
    "\n",
    "Darcy Flow in 1D\n",
    "\\begin{equation}\n",
    "    (k(x)u'(x))' = k'(x) u'(x) + k(x) u''(x) = f(x)\n",
    "\\end{equation}\n",
    "\n",
    "## Conditions for the problem\n",
    "Zero Dirichlet boundary conditions $u(0) = u(1) = 0$\n",
    "\n",
    "## Hints\n",
    "\n",
    "Express $u$ as $u(x) = \\sum_{j = 1}^{n} u_{j} \\phi_{j}(x)$ with $\\phi_{j}(x) =$ piecewise linear tent function peaking at node $j$\n",
    "\n",
    "Solve $A(u_{1}, …, u_{n}) = b$ for the coefficients  \n",
    "\\begin{align}\n",
    "b_{j} &= \\int_{0}^{1} f(x) \\phi_{j}(x) d x \\\\\n",
    "A_{i j} &= \\int_{0}^{1} k(x) \\phi'_{i}(x) \\phi'_{j}(x) d x\n",
    "\\end{align}\n",
    "Google finite element method / Galerkin method for elliptic PDE \n",
    "\n",
    "I will give you e.g. (u(1/4), u(1/2), u(3/4)) and similarly for f, both corrupted by additive N(0, \\sigma^{2}) noise.\n",
    "Your challenge:  infer k\n",
    "\n",
    "--\n",
    "\n",
    "Modelling assumption:  $k(x) = exp( \\sum_{\\alpha = 0}^{A} k_{\\alpha} \\phi_{\\alpha}(x) )$\n",
    "\n",
    "--\n",
    "\n",
    "Try a Fourier basis. Note that u vanishes at the boundary, but that doesn't mean k does.\n",
    "\n",
    "Create the forward model. Solver works. Extend to imitation inverse model with likelihood, etc. Use this to solve his problem.\n",
    "\n",
    "## Useful Links\n",
    "http://www.mathematik.uni-dortmund.de/~kuzmin/Transport.pdf  \n",
    "https://en.wikipedia.org/wiki/Finite_element_method"
   ]
  },
  {
   "cell_type": "markdown",
   "metadata": {
    "collapsed": true
   },
   "source": [
    "# The Problem\n",
    "\\begin{align}\n",
    "    k'(x) u'(x) + k(x) u''(x) &= f(x) \\\\\n",
    "    u(0) = u(1) &= 0\n",
    "\\end{align}\n",
    "\n",
    "We put the equation into the weak form. $v(x)$ is a function which satisfies the boundary conditions.\n",
    "\n",
    "\\begin{equation}\n",
    "    \\int_{0}^{1} f(x)v(x) \\ dx = \\int_{0}^{1} (k'(x) u'(x) v(x) + k(x) u''(x) v(x)) \\ dx\n",
    "\\end{equation}\n",
    "\n",
    "We can integrate by parts and apply our boundry conditions on the second L.H.S. term to arrive at the next equation.\n",
    "\n",
    "\\begin{align}\n",
    "    \\int_{0}^{1} f(x)v(x) \\ dx &= k(x) u'(x) v(x)|_{0}^{1} + \\int_{0}^{1} (k'(x) u'(x) v(x) - k(x) u'(x) v'(x)) \\ dx \\\\\n",
    "    \\int_{0}^{1} f(x)v(x) \\ dx &= \\int_{0}^{1} (k'(x) u'(x) v(x) - k(x) u'(x) v'(x)) \\ dx\n",
    "\\end{align}\n",
    "\n",
    "We choose the piecewise linear function $v_k$ for a discretization.\n",
    "\n",
    "\\begin{equation}\n",
    "v_{k}(x) = \n",
    "    \\begin{cases}\n",
    "        \\frac{x-x_{k-1}}{x_k-x_{k-1}} & \\text{if } x \\in [x_{k-1}, x_k] \\\\\n",
    "        \\frac{x_{k+1}-x}{x_{k+1}-x_k} & \\text{if } x \\in [x_{k}, x_{k+1}] \\\\\n",
    "        0 & \\text{otherwise}\n",
    "    \\end{cases}\n",
    "\\end{equation}\n",
    "\n",
    "If we expand $u(x)$ in a basis of tent functions on this discretization, we are left with the problem\n",
    "\n",
    "\\begin{equation}\n",
    "    A \\bf{u} = \\bf{b}\n",
    "\\end{equation}\n",
    "\n",
    "where $A_{ij} = \\int (k'(x) v_{i}'(x) v_{j}(x) - k(x) v_{i}'(x) v_{j}'(x)) \\ dx$ and $b_{j} = \\int f(x) v_{j} dx$."
   ]
  },
  {
   "cell_type": "code",
   "execution_count": null,
   "metadata": {
    "collapsed": true
   },
   "outputs": [],
   "source": []
  }
 ],
 "metadata": {
  "kernelspec": {
   "display_name": "Python 3",
   "language": "python",
   "name": "python3"
  },
  "language_info": {
   "codemirror_mode": {
    "name": "ipython",
    "version": 3
   },
   "file_extension": ".py",
   "mimetype": "text/x-python",
   "name": "python",
   "nbconvert_exporter": "python",
   "pygments_lexer": "ipython3",
   "version": "3.6.3"
  }
 },
 "nbformat": 4,
 "nbformat_minor": 2
}
