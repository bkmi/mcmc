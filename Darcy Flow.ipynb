{
 "cells": [
  {
   "cell_type": "markdown",
   "metadata": {},
   "source": [
    "# Darcy Flow\n",
    "Including forward and inverse problem solver for 1D. Darcy Flow\n",
    "Darcy Flow\n",
    "\\begin{equation}\n",
    "    \\nabla \\cdot ( k(x) \\nabla u(x) ) = f(x)\n",
    "\\end{equation}\n",
    "\n",
    "Zero Dirichlet boundary conditions $u(0) = u(1) = 0$\n",
    "\n",
    "## Hints from Tim Sullivan\n",
    "\n",
    "Express $u$ as $u(x) = \\sum_{j = 1}^{n} u_{j} \\phi_{j}(x)$ with $\\phi_{j}(x) =$ piecewise linear tent function peaking at node $j$\n",
    "\n",
    "Solve $A(u_{1}, …, u_{n}) = b$ for the coefficients  \n",
    "\\begin{align}\n",
    "b_{j} &= \\int_{0}^{1} f(x) \\phi_{j}(x) d x \\\\\n",
    "A_{i j} &= \\int_{0}^{1} k(x) \\phi'_{i}(x) \\phi'_{j}(x) d x\n",
    "\\end{align}\n",
    "Google finite element method / Galerkin method for elliptic PDE \n",
    "\n",
    "I will give you e.g. (u(1/4), u(1/2), u(3/4)) and similarly for f, both corrupted by additive N(0, \\sigma^{2}) noise.\n",
    "Your challenge:  infer k\n",
    "\n",
    "--\n",
    "\n",
    "Modelling assumption:  $k(x) = exp( \\sum_{\\alpha = 0}^{A} k_{\\alpha} \\phi_{\\alpha}(x) )$\n",
    "\n",
    "--\n",
    "\n",
    "Try a Fourier basis. Note that u vanishes at the boundary, but that doesn't mean k does.\n",
    "\n",
    "Create the forward model. Solver works. Extend to imitation inverse model with likelihood, etc. Use this to solve his problem.\n"
   ]
  },
  {
   "cell_type": "markdown",
   "metadata": {
    "collapsed": true
   },
   "source": [
    "# The Darcy Flow Problem\n",
    "\n",
    "We consider the Darcy Flow problem in one dimension with Dirichlet boundry conditions and a modeling assumption.\n",
    "\n",
    "\\begin{align}\n",
    "    k'(x) u'(x) + k(x) u''(x) &= f(x) \\\\\n",
    "    u(0) = u(1) &= 0 \\\\\n",
    "    exp( \\sum_{\\alpha = 0}^{A} k_{\\alpha} \\phi_{\\alpha}(x) ) &=  k(x)\n",
    "\\end{align}\n",
    "\n",
    "We put the equation into the weak form. $v(x)$ is a function which satisfies the boundary conditions.\n",
    "\n",
    "\\begin{equation}\n",
    "    \\int_{0}^{1} f(x)v(x) \\ dx = \\int_{0}^{1} (k'(x) u'(x) v(x) + k(x) u''(x) v(x)) \\ dx\n",
    "\\end{equation}\n",
    "\n",
    "We can integrate by parts and apply our boundry conditions on the second R.H.S. term to arrive at the next equation.\n",
    "\n",
    "\\begin{align}\n",
    "    \\int_{0}^{1} f(x)v(x) \\ dx &= \\int_{0}^{1} k'(x) u'(x) v(x) \\ dx +\n",
    "                                  k(x) u'(x) v(x) |_{0}^{1} - \n",
    "                                  \\int_{0}^{1} k'(x) u'(x) v(x) \\ dx - \n",
    "                                  \\int_{0}^{1} k(x) u'(x) v'(x) \\ dx \\\\\n",
    "    \\int_{0}^{1} f(x)v(x) \\ dx &= - \\int_{0}^{1} k(x) u'(x) v'(x) \\ dx\n",
    "\\end{align}\n",
    "\n",
    "We choose the piecewise linear function $v_k$ for a discretization.\n",
    "\n",
    "\\begin{equation}\n",
    "v_{k}(x) = \n",
    "    \\begin{cases}\n",
    "        \\frac{x-x_{k-1}}{x_k-x_{k-1}} & \\text{if } x \\in [x_{k-1}, x_k] \\\\\n",
    "        \\frac{x_{k+1}-x}{x_{k+1}-x_k} & \\text{if } x \\in [x_{k}, x_{k+1}] \\\\\n",
    "        0 & \\text{otherwise}\n",
    "    \\end{cases}\n",
    "\\end{equation}\n",
    "\n",
    "If we expand $u(x)$ in a basis of tent functions on this discretization, we are left with the problem\n",
    "\n",
    "\\begin{equation}\n",
    "    A \\bf{u} = \\bf{b}\n",
    "\\end{equation}\n",
    "\n",
    "where $A_{ij} = - \\int_{0}^{1} k(x) v_{i}'(x) v_{j}'(x) \\ dx$ and $b_{j} = \\int_{0}^{1} f(x) v_{j} dx$. Note that this will be a sparse matrix due our use of tent functions. With our modeling assumption, only \n",
    "\n",
    "## Useful Links\n",
    "https://en.wikipedia.org/wiki/Finite_element_method  \n",
    "http://www.mathematik.uni-dortmund.de/~kuzmin/Transport.pdf  "
   ]
  },
  {
   "cell_type": "markdown",
   "metadata": {
    "collapsed": true
   },
   "source": [
    "# Forward Solver"
   ]
  },
  {
   "cell_type": "code",
   "execution_count": 1,
   "metadata": {
    "collapsed": true
   },
   "outputs": [],
   "source": [
    "import numpy as np\n",
    "import scipy.integrate\n",
    "import matplotlib.pyplot as plt"
   ]
  },
  {
   "cell_type": "code",
   "execution_count": 2,
   "metadata": {
    "collapsed": true
   },
   "outputs": [],
   "source": [
    "def grid(nodes):\n",
    "    return np.linspace(0, 1, num=nodes)\n",
    "    \n",
    "def tent(x, k, grid):\n",
    "    def down(x):\n",
    "        return (grid[k+1] - x) / (grid[k+1] - grid[k])\n",
    "    def up(x):\n",
    "        return (x - grid[k-1]) / (grid[k] - grid[k-1])\n",
    "    if (k < 0) or (k > grid.size - 1):\n",
    "        raise ValueError('k was not in [0, grid.size - 1]')\n",
    "    elif k == 0:\n",
    "        if (grid[k] <= x) and (x <= grid[k+1]):\n",
    "            return down(x)\n",
    "        else:\n",
    "            return 0\n",
    "    elif k == grid.size - 1:\n",
    "        if (grid[k-1] <= x) and (x <= grid[k]):\n",
    "            return up(x)\n",
    "        else:\n",
    "            return 0\n",
    "    else:\n",
    "        if (grid[k-1] <= x) and (x <= grid[k]):\n",
    "            return up(x)\n",
    "        elif (grid[k] <= x) and (x <= grid[k+1]):\n",
    "            return down(x)\n",
    "        else:\n",
    "            return 0\n",
    "        \n",
    "def κ(x, coefs, grid):\n",
    "    lo_bound = np.searchsorted(grid, x, 'left')\n",
    "    up_bound = np.searchsorted(grid, x, 'right')\n",
    "    \n",
    "    if (0 - 0.1 <= x) and (x < grid[1]):\n",
    "        return np.exp(sum([coefs[0] * tent(x, 0, grid), coefs[1] * tent(x, 1, grid)]))\n",
    "    elif (grid[-2] < x) and (x <= grid[-1] + 0.1):\n",
    "        return np.exp(sum([coefs[-2] * tent(x, grid.size - 2, grid), coefs[-1] * tent(x, grid.size - 1, grid)]))\n",
    "    else:\n",
    "        return np.exp(sum([coefs[k] * tent(x, k, grid) for k in [lo_bound, up_bound]]))\n",
    "    \n",
    "# def kappa(x, coefs, grid):\n",
    "#     return np.exp(sum([coefs[k] * tent(x, k, grid) for k in range(grid.size)]))\n",
    "\n",
    "def A(k, grid):\n",
    "    val = lambda x, y: scipy.integrate.quad(k, x, y, limit=100)[0]\n",
    "    lo_di = np.asarray([ val(grid[i-1], grid[i]  ) for i in range(2, grid.size - 1)])\n",
    "    di    = np.asarray([-val(grid[i-1], grid[i+1]) for i in range(1, grid.size - 1)])\n",
    "    up_di = np.asarray([ val(grid[i]  , grid[i+1]) for i in range(1, grid.size - 2)])\n",
    "    \n",
    "    return np.sum([np.diag(lo_di, -1), np.diag(di), np.diag(up_di, 1)], axis=0)\n",
    "\n",
    "def b(f, grid):\n",
    "    val = lambda x, y: scipy.integrate.quad(f, x, y)[0]\n",
    "    return np.asarray([-val(grid[i-1], grid[i+1]) for i in range(1, grid.size - 1)])"
   ]
  },
  {
   "cell_type": "code",
   "execution_count": 3,
   "metadata": {},
   "outputs": [
    {
     "data": {
      "image/png": "[encoded data removed]",
      "text/plain": [
       "<matplotlib.figure.Figure at 0x1ae549826a0>"
      ]
     },
     "metadata": {},
     "output_type": "display_data"
    }
   ],
   "source": [
    "nodes = 5\n",
    "g = grid(nodes)\n",
    "plt.plot([κ(x, np.random.rand(nodes), g) for x in np.linspace(0, 1, num=100)])\n",
    "\n",
    "for i in range(nodes):\n",
    "    plt.plot([tent(x, i, g) for x in np.linspace(0, 1, num=100)])\n",
    "plt.show()"
   ]
  },
  {
   "cell_type": "code",
   "execution_count": 4,
   "metadata": {},
   "outputs": [
    {
     "data": {
      "text/plain": [
       "array([ 7.2758055 ,  8.29709789, 18.96445452, 23.34774462, 22.59827513,\n",
       "       21.74059444, 10.88475468,  5.15230854])"
      ]
     },
     "execution_count": 4,
     "metadata": {},
     "output_type": "execute_result"
    }
   ],
   "source": [
    "nodes = 10\n",
    "pars = np.random.randn(nodes)\n",
    "g = grid(nodes)\n",
    "aa = A(lambda x: κ(x, pars, g), g)\n",
    "bb = b(lambda x: np.cos(x), g)\n",
    "\n",
    "np.linalg.solve(aa, bb)"
   ]
  },
  {
   "cell_type": "markdown",
   "metadata": {},
   "source": [
    "# Forward Solver Using Tensorflow and Edward"
   ]
  },
  {
   "cell_type": "code",
   "execution_count": 2,
   "metadata": {},
   "outputs": [],
   "source": [
    "import edward as ed\n",
    "import tensorflow as tf\n",
    "from edward.models import Empirical, Normal"
   ]
  },
  {
   "cell_type": "code",
   "execution_count": 5,
   "metadata": {},
   "outputs": [
    {
     "name": "stderr",
     "output_type": "stream",
     "text": [
      "C:\\ProgramData\\Anaconda3\\lib\\site-packages\\edward\\util\\random_variables.py:52: FutureWarning: Conversion of the second argument of issubdtype from `float` to `np.floating` is deprecated. In future, it will be treated as `np.float64 == np.dtype(float).type`.\n",
      "  not np.issubdtype(value.dtype, np.float) and \\\n"
     ]
    }
   ],
   "source": [
    "mu = Normal(loc=0.0, scale=1.0)\n",
    "x = Normal(loc=mu, scale=1.0, sample_shape=10)\n",
    "\n",
    "qmu = Empirical(tf.Variable(tf.zeros(500)))\n",
    "inference = ed.SGHMC({mu: qmu}, {x: np.zeros(10, dtype=np.float32)})"
   ]
  },
  {
   "cell_type": "code",
   "execution_count": 25,
   "metadata": {},
   "outputs": [
    {
     "name": "stdout",
     "output_type": "stream",
     "text": [
      "[ 0.00000000e+00 -3.78917233e-04 -2.24297270e-02 -8.12717378e-02\n",
      " -1.40063196e-01 -1.82425380e-01 -2.24133655e-01 -2.65791237e-01\n",
      " -2.95203567e-01 -3.48400235e-01 -4.04184133e-01 -4.62325037e-01\n",
      " -5.01730323e-01 -5.31851828e-01 -5.35615921e-01 -4.94327158e-01\n",
      " -4.61050034e-01 -4.03151155e-01 -3.28953594e-01 -2.47926816e-01\n",
      " -1.56210795e-01 -4.13958877e-02  5.61461970e-02  1.39729410e-01\n",
      "  2.22370207e-01  2.94131547e-01  3.94256860e-01  4.73358691e-01\n",
      "  5.24380326e-01  5.44491768e-01  5.56733310e-01  5.34601986e-01\n",
      "  5.04046857e-01  4.58618134e-01  4.05423164e-01  3.38127434e-01\n",
      "  2.54159898e-01  1.45619512e-01  5.29360026e-02 -2.08529979e-02\n",
      " -1.03357218e-01 -1.54186502e-01 -2.04580486e-01 -2.39028901e-01\n",
      " -2.51037329e-01 -2.47651294e-01 -2.37610504e-01 -2.15038911e-01\n",
      " -1.99533358e-01 -1.59844875e-01 -1.31965905e-01 -9.02381390e-02\n",
      " -5.58280684e-02 -3.24312337e-02 -1.55298170e-02 -1.30436830e-02\n",
      " -2.50073764e-02 -4.52604443e-02 -5.03287278e-02 -1.37435533e-02\n",
      "  2.72902437e-02  3.73658240e-02  3.45312133e-02  6.07251152e-02\n",
      "  9.92698595e-02  1.17133625e-01  1.22904710e-01  1.09396987e-01\n",
      "  9.58892629e-02  1.01879627e-01  1.17924713e-01  1.31578386e-01\n",
      "  1.29717574e-01  1.20660037e-01  8.62951428e-02  2.78925039e-02\n",
      " -1.73717365e-03 -6.51108623e-02 -1.18977264e-01 -1.80268168e-01\n",
      " -2.27314934e-01 -2.49903098e-01 -2.68567711e-01 -2.85832077e-01\n",
      " -3.18727136e-01 -3.27432841e-01 -3.10948431e-01 -2.67401427e-01\n",
      " -2.19157606e-01 -1.84119344e-01 -1.58052042e-01 -1.40234157e-01\n",
      " -1.26065060e-01 -1.06940486e-01 -7.68740550e-02 -5.28044589e-02\n",
      " -6.70083612e-03  5.28970845e-02  1.00761995e-01  1.61773518e-01\n",
      "  1.88696444e-01  2.07649976e-01  2.04573706e-01  2.01323763e-01\n",
      "  2.04106390e-01  2.21717730e-01  2.23528057e-01  2.37660110e-01\n",
      "  2.61017650e-01  2.66916156e-01  2.68147945e-01  2.50187278e-01\n",
      "  2.25020915e-01  2.10018322e-01  1.77188337e-01  1.48858607e-01\n",
      "  1.11140192e-01  9.02322903e-02  5.27940169e-02  1.94453858e-02\n",
      " -3.00722346e-02 -6.40722960e-02 -1.10001355e-01 -1.66140378e-01\n",
      " -2.13038743e-01 -2.51663804e-01 -2.49825075e-01 -2.61911333e-01\n",
      " -2.72292614e-01 -2.64531970e-01 -2.19985828e-01 -1.54572159e-01\n",
      " -9.89594012e-02 -7.30219334e-02 -2.61837952e-02  2.81328671e-02\n",
      "  8.20633546e-02  1.30525708e-01  1.57634467e-01  1.56641409e-01\n",
      "  1.63354665e-01  1.77768886e-01  1.61568984e-01  1.28581047e-01\n",
      "  8.05066749e-02  4.87646982e-02  2.50619035e-02 -1.42417643e-02\n",
      " -2.39806417e-02 -3.54077667e-02 -4.21264321e-02 -6.69680238e-02\n",
      " -1.10417806e-01 -1.49481982e-01 -1.66440204e-01 -1.65393189e-01\n",
      " -1.65869102e-01 -1.49850950e-01 -1.21948391e-01 -1.08505949e-01\n",
      " -8.64912421e-02 -4.87453640e-02 -1.46203563e-02  2.39999332e-02\n",
      "  4.15217280e-02  5.66892512e-02  4.71729338e-02  4.81393188e-03\n",
      " -4.75694500e-02 -9.55341458e-02 -1.27592057e-01 -1.54387519e-01\n",
      " -1.65770411e-01 -1.92472935e-01 -1.97375104e-01 -2.10536957e-01\n",
      " -1.94938749e-01 -1.68288708e-01 -1.39697090e-01 -9.78969634e-02\n",
      " -5.24209142e-02  1.34509653e-02  8.17275271e-02  1.65293708e-01\n",
      "  2.80015618e-01  3.80081117e-01  4.79442239e-01  5.60575128e-01\n",
      "  6.07381284e-01  5.83609819e-01  5.58240116e-01  5.08829176e-01\n",
      "  4.31998551e-01  3.33650827e-01  2.19158113e-01  1.11412972e-01\n",
      " -1.61644816e-03 -1.12318061e-01 -2.26894930e-01 -3.48040342e-01\n",
      " -4.58175451e-01 -5.47245026e-01 -6.19523227e-01 -6.65709734e-01\n",
      " -6.77363575e-01 -6.55215323e-01 -6.04996324e-01 -5.64520538e-01\n",
      " -5.24541557e-01 -4.62307274e-01 -3.81120861e-01 -2.80924618e-01\n",
      " -1.88254088e-01 -9.44268331e-02 -2.06914395e-02  7.35498071e-02\n",
      "  1.58855245e-01  2.53668934e-01  3.48294556e-01  3.86684090e-01\n",
      "  3.88311058e-01  3.81363153e-01  3.50535244e-01  3.34418297e-01\n",
      "  2.98803866e-01  2.45394766e-01  2.08370775e-01  1.97211131e-01\n",
      "  1.81705594e-01  1.74757451e-01  1.63477734e-01  1.48426801e-01\n",
      "  1.04673259e-01  6.29663318e-02  5.78135736e-02  7.84694105e-02\n",
      "  8.58155265e-02  9.53235850e-02  8.73828158e-02  7.29421824e-02\n",
      "  3.57724093e-02 -5.31473756e-03 -2.83123869e-02 -5.07043041e-02\n",
      " -6.00354858e-02 -7.94338733e-02 -8.12503248e-02 -8.94638970e-02\n",
      " -8.82484391e-02 -1.01630338e-01 -1.09035201e-01 -9.53454301e-02\n",
      " -6.89068809e-02 -5.35503440e-02 -5.27029932e-02 -3.38634104e-02\n",
      " -1.30576976e-02 -2.01448463e-02 -3.51078138e-02 -7.33830482e-02\n",
      " -1.15434036e-01 -1.39536664e-01 -1.42853320e-01 -1.28852457e-01\n",
      " -8.67692679e-02 -8.68330151e-02 -9.44357514e-02 -9.74530280e-02\n",
      " -6.43516332e-02 -3.39368284e-02 -6.45650737e-03  1.97881032e-02\n",
      "  2.32539922e-02  2.18857266e-02 -9.78196040e-04 -2.35186666e-02\n",
      " -5.36277182e-02 -7.00667351e-02 -8.21972340e-02 -7.84607828e-02\n",
      " -7.61336982e-02 -7.48503357e-02 -8.55073705e-02 -1.10084571e-01\n",
      " -1.19223289e-01 -1.09913856e-01 -1.07846543e-01 -9.81070250e-02\n",
      " -7.28629902e-02 -3.94901745e-02 -1.73308458e-02  2.82342900e-02\n",
      "  7.90718421e-02  1.19135343e-01  1.27275765e-01  1.48283571e-01\n",
      "  1.54749483e-01  1.69222996e-01  1.61683366e-01  1.22988015e-01\n",
      "  8.68030041e-02  8.14511031e-02  8.17571282e-02  4.51090932e-02\n",
      "  3.16024013e-02  4.87079658e-03  1.89995952e-03 -2.59132637e-03\n",
      " -7.54354568e-03 -3.91770788e-02 -7.52322376e-02 -1.28353804e-01\n",
      " -1.75344557e-01 -2.15304986e-01 -2.52181441e-01 -2.87332803e-01\n",
      " -3.42990935e-01 -3.80865425e-01 -4.12378073e-01 -4.29152310e-01\n",
      " -4.09940451e-01 -3.64112556e-01 -3.01834345e-01 -2.55878538e-01\n",
      " -1.98968008e-01 -1.30363226e-01 -6.50367290e-02 -4.30861115e-03\n",
      "  7.17026293e-02  1.40053302e-01  2.21735969e-01  2.99938530e-01\n",
      "  3.63856196e-01  4.11598623e-01  4.55095202e-01  4.78553981e-01\n",
      "  4.69091266e-01  4.62928295e-01  4.18845654e-01  3.46132994e-01\n",
      "  2.55713165e-01  1.57875776e-01  6.54375702e-02 -1.58121362e-02\n",
      " -1.14238910e-01 -2.25716144e-01 -3.36048007e-01 -4.31787699e-01\n",
      " -4.97991890e-01 -5.67449808e-01 -5.88738143e-01 -5.96369803e-01\n",
      " -6.03327096e-01 -5.74816406e-01 -5.10353863e-01 -4.31837648e-01\n",
      " -3.39500666e-01 -2.70123065e-01 -1.88515335e-01 -1.24180548e-01\n",
      " -4.33946028e-02  6.85320124e-02  1.91672683e-01  2.88708746e-01\n",
      "  3.82448882e-01  4.69376624e-01  5.35600841e-01  6.03720427e-01\n",
      "  6.50147736e-01  7.01142907e-01  7.56694019e-01  7.68979669e-01\n",
      "  7.34278679e-01  6.95762634e-01  6.51470304e-01  5.68417192e-01\n",
      "  4.75798428e-01  3.59425157e-01  2.43874431e-01  1.04929492e-01\n",
      " -1.91714540e-02 -1.07855789e-01 -1.85024753e-01 -2.52092600e-01\n",
      " -3.26693356e-01 -3.85583043e-01 -4.38626975e-01 -4.69300479e-01\n",
      " -4.76578414e-01 -4.53055233e-01 -4.23438162e-01 -3.69313657e-01\n",
      " -3.04640919e-01 -2.25296468e-01 -1.59396172e-01 -6.60007596e-02\n",
      "  3.57419699e-02  1.16664477e-01  1.99203193e-01  2.70432234e-01\n",
      "  3.38399798e-01  4.22034442e-01  4.90350395e-01  5.55030704e-01\n",
      "  6.25080347e-01  6.72355592e-01  7.25736499e-01  7.71650016e-01\n",
      "  7.81025410e-01  8.02162468e-01  8.04121614e-01  8.05156827e-01\n",
      "  7.73478925e-01  7.19742298e-01  6.43029809e-01  5.31661212e-01\n",
      "  4.19449300e-01  2.81787932e-01  1.22130185e-01 -3.94177884e-02\n",
      " -1.96831658e-01 -3.24558735e-01 -4.40257818e-01 -5.44352710e-01\n",
      " -6.50527596e-01 -7.44152784e-01 -7.99342752e-01 -8.30862164e-01\n",
      " -8.54073882e-01 -8.46190631e-01 -8.13326895e-01 -7.60733724e-01\n",
      " -6.84929550e-01 -6.26300752e-01 -5.38743854e-01 -4.19863671e-01\n",
      " -2.61708796e-01 -7.30644315e-02  1.15996301e-01  2.81904578e-01\n",
      "  4.28744972e-01  5.39737344e-01  6.53242290e-01  7.54425108e-01\n",
      "  8.24898124e-01  8.54117930e-01  8.70647907e-01  8.84981573e-01\n",
      "  9.05113101e-01  9.29396868e-01  9.23530698e-01  8.79557729e-01\n",
      "  7.87498534e-01  6.67543948e-01  5.49822450e-01  4.32501554e-01\n",
      "  2.93599963e-01  1.59917280e-01  1.83897018e-02 -1.13585547e-01\n",
      " -2.46595159e-01 -3.79045129e-01 -4.87194836e-01 -5.80668092e-01\n",
      " -6.44956410e-01 -7.01509833e-01 -7.40342438e-01 -7.56475091e-01\n",
      " -7.27396548e-01 -7.05042720e-01 -6.88992262e-01 -6.63336813e-01\n",
      " -6.02287233e-01 -5.05936921e-01 -3.68931681e-01 -2.53516495e-01\n",
      " -1.55235320e-01 -7.61401355e-02  1.51421130e-02  1.05186425e-01\n",
      "  1.65724456e-01  2.19606906e-01  2.44787976e-01  2.59469301e-01\n",
      "  2.72799015e-01  2.79026002e-01  2.79725581e-01  2.60820180e-01\n",
      "  2.37518668e-01  2.07228035e-01  1.71223998e-01  1.46820828e-01\n",
      "  1.30993441e-01  1.15452312e-01  9.71688032e-02  6.72031194e-02\n",
      "  4.97938916e-02  2.09425129e-02 -3.84573974e-02 -9.64056849e-02]\n"
     ]
    }
   ],
   "source": [
    "qmu_trace = qmu.params.eval()\n",
    "print(qmu_trace)"
   ]
  },
  {
   "cell_type": "code",
   "execution_count": 23,
   "metadata": {},
   "outputs": [
    {
     "ename": "TypeError",
     "evalue": "unsupported operand type(s) for /: 'Dimension' and 'int'",
     "output_type": "error",
     "traceback": [
      "\u001b[1;31m---------------------------------------------------------------------------\u001b[0m",
      "\u001b[1;31mAttributeError\u001b[0m                            Traceback (most recent call last)",
      "\u001b[1;32mC:\\ProgramData\\Anaconda3\\lib\\site-packages\\matplotlib\\cbook\\__init__.py\u001b[0m in \u001b[0;36mindex_of\u001b[1;34m(y)\u001b[0m\n\u001b[0;32m   2294\u001b[0m     \u001b[1;32mtry\u001b[0m\u001b[1;33m:\u001b[0m\u001b[1;33m\u001b[0m\u001b[0m\n\u001b[1;32m-> 2295\u001b[1;33m         \u001b[1;32mreturn\u001b[0m \u001b[0my\u001b[0m\u001b[1;33m.\u001b[0m\u001b[0mindex\u001b[0m\u001b[1;33m.\u001b[0m\u001b[0mvalues\u001b[0m\u001b[1;33m,\u001b[0m \u001b[0my\u001b[0m\u001b[1;33m.\u001b[0m\u001b[0mvalues\u001b[0m\u001b[1;33m\u001b[0m\u001b[0m\n\u001b[0m\u001b[0;32m   2296\u001b[0m     \u001b[1;32mexcept\u001b[0m \u001b[0mAttributeError\u001b[0m\u001b[1;33m:\u001b[0m\u001b[1;33m\u001b[0m\u001b[0m\n",
      "\u001b[1;31mAttributeError\u001b[0m: 'Normal' object has no attribute 'index'",
      "\nDuring handling of the above exception, another exception occurred:\n",
      "\u001b[1;31mTypeError\u001b[0m                                 Traceback (most recent call last)",
      "\u001b[1;32m<ipython-input-23-77562403be96>\u001b[0m in \u001b[0;36m<module>\u001b[1;34m()\u001b[0m\n\u001b[1;32m----> 1\u001b[1;33m \u001b[0mplt\u001b[0m\u001b[1;33m.\u001b[0m\u001b[0mplot\u001b[0m\u001b[1;33m(\u001b[0m\u001b[0mx\u001b[0m\u001b[1;33m)\u001b[0m\u001b[1;33m\u001b[0m\u001b[0m\n\u001b[0m\u001b[0;32m      2\u001b[0m \u001b[0mplt\u001b[0m\u001b[1;33m.\u001b[0m\u001b[0mshow\u001b[0m\u001b[1;33m(\u001b[0m\u001b[1;33m)\u001b[0m\u001b[1;33m\u001b[0m\u001b[0m\n",
      "\u001b[1;32mC:\\ProgramData\\Anaconda3\\lib\\site-packages\\matplotlib\\pyplot.py\u001b[0m in \u001b[0;36mplot\u001b[1;34m(*args, **kwargs)\u001b[0m\n\u001b[0;32m   3238\u001b[0m                       mplDeprecation)\n\u001b[0;32m   3239\u001b[0m     \u001b[1;32mtry\u001b[0m\u001b[1;33m:\u001b[0m\u001b[1;33m\u001b[0m\u001b[0m\n\u001b[1;32m-> 3240\u001b[1;33m         \u001b[0mret\u001b[0m \u001b[1;33m=\u001b[0m \u001b[0max\u001b[0m\u001b[1;33m.\u001b[0m\u001b[0mplot\u001b[0m\u001b[1;33m(\u001b[0m\u001b[1;33m*\u001b[0m\u001b[0margs\u001b[0m\u001b[1;33m,\u001b[0m \u001b[1;33m**\u001b[0m\u001b[0mkwargs\u001b[0m\u001b[1;33m)\u001b[0m\u001b[1;33m\u001b[0m\u001b[0m\n\u001b[0m\u001b[0;32m   3241\u001b[0m     \u001b[1;32mfinally\u001b[0m\u001b[1;33m:\u001b[0m\u001b[1;33m\u001b[0m\u001b[0m\n\u001b[0;32m   3242\u001b[0m         \u001b[0max\u001b[0m\u001b[1;33m.\u001b[0m\u001b[0m_hold\u001b[0m \u001b[1;33m=\u001b[0m \u001b[0mwashold\u001b[0m\u001b[1;33m\u001b[0m\u001b[0m\n",
      "\u001b[1;32mC:\\ProgramData\\Anaconda3\\lib\\site-packages\\matplotlib\\__init__.py\u001b[0m in \u001b[0;36minner\u001b[1;34m(ax, *args, **kwargs)\u001b[0m\n\u001b[0;32m   1708\u001b[0m                     warnings.warn(msg % (label_namer, func.__name__),\n\u001b[0;32m   1709\u001b[0m                                   RuntimeWarning, stacklevel=2)\n\u001b[1;32m-> 1710\u001b[1;33m             \u001b[1;32mreturn\u001b[0m \u001b[0mfunc\u001b[0m\u001b[1;33m(\u001b[0m\u001b[0max\u001b[0m\u001b[1;33m,\u001b[0m \u001b[1;33m*\u001b[0m\u001b[0margs\u001b[0m\u001b[1;33m,\u001b[0m \u001b[1;33m**\u001b[0m\u001b[0mkwargs\u001b[0m\u001b[1;33m)\u001b[0m\u001b[1;33m\u001b[0m\u001b[0m\n\u001b[0m\u001b[0;32m   1711\u001b[0m         \u001b[0mpre_doc\u001b[0m \u001b[1;33m=\u001b[0m \u001b[0minner\u001b[0m\u001b[1;33m.\u001b[0m\u001b[0m__doc__\u001b[0m\u001b[1;33m\u001b[0m\u001b[0m\n\u001b[0;32m   1712\u001b[0m         \u001b[1;32mif\u001b[0m \u001b[0mpre_doc\u001b[0m \u001b[1;32mis\u001b[0m \u001b[1;32mNone\u001b[0m\u001b[1;33m:\u001b[0m\u001b[1;33m\u001b[0m\u001b[0m\n",
      "\u001b[1;32mC:\\ProgramData\\Anaconda3\\lib\\site-packages\\matplotlib\\axes\\_axes.py\u001b[0m in \u001b[0;36mplot\u001b[1;34m(self, *args, **kwargs)\u001b[0m\n\u001b[0;32m   1435\u001b[0m         \u001b[0mkwargs\u001b[0m \u001b[1;33m=\u001b[0m \u001b[0mcbook\u001b[0m\u001b[1;33m.\u001b[0m\u001b[0mnormalize_kwargs\u001b[0m\u001b[1;33m(\u001b[0m\u001b[0mkwargs\u001b[0m\u001b[1;33m,\u001b[0m \u001b[0m_alias_map\u001b[0m\u001b[1;33m)\u001b[0m\u001b[1;33m\u001b[0m\u001b[0m\n\u001b[0;32m   1436\u001b[0m \u001b[1;33m\u001b[0m\u001b[0m\n\u001b[1;32m-> 1437\u001b[1;33m         \u001b[1;32mfor\u001b[0m \u001b[0mline\u001b[0m \u001b[1;32min\u001b[0m \u001b[0mself\u001b[0m\u001b[1;33m.\u001b[0m\u001b[0m_get_lines\u001b[0m\u001b[1;33m(\u001b[0m\u001b[1;33m*\u001b[0m\u001b[0margs\u001b[0m\u001b[1;33m,\u001b[0m \u001b[1;33m**\u001b[0m\u001b[0mkwargs\u001b[0m\u001b[1;33m)\u001b[0m\u001b[1;33m:\u001b[0m\u001b[1;33m\u001b[0m\u001b[0m\n\u001b[0m\u001b[0;32m   1438\u001b[0m             \u001b[0mself\u001b[0m\u001b[1;33m.\u001b[0m\u001b[0madd_line\u001b[0m\u001b[1;33m(\u001b[0m\u001b[0mline\u001b[0m\u001b[1;33m)\u001b[0m\u001b[1;33m\u001b[0m\u001b[0m\n\u001b[0;32m   1439\u001b[0m             \u001b[0mlines\u001b[0m\u001b[1;33m.\u001b[0m\u001b[0mappend\u001b[0m\u001b[1;33m(\u001b[0m\u001b[0mline\u001b[0m\u001b[1;33m)\u001b[0m\u001b[1;33m\u001b[0m\u001b[0m\n",
      "\u001b[1;32mC:\\ProgramData\\Anaconda3\\lib\\site-packages\\matplotlib\\axes\\_base.py\u001b[0m in \u001b[0;36m_grab_next_args\u001b[1;34m(self, *args, **kwargs)\u001b[0m\n\u001b[0;32m    402\u001b[0m                 \u001b[0mthis\u001b[0m \u001b[1;33m+=\u001b[0m \u001b[0margs\u001b[0m\u001b[1;33m[\u001b[0m\u001b[1;36m0\u001b[0m\u001b[1;33m]\u001b[0m\u001b[1;33m,\u001b[0m\u001b[1;33m\u001b[0m\u001b[0m\n\u001b[0;32m    403\u001b[0m                 \u001b[0margs\u001b[0m \u001b[1;33m=\u001b[0m \u001b[0margs\u001b[0m\u001b[1;33m[\u001b[0m\u001b[1;36m1\u001b[0m\u001b[1;33m:\u001b[0m\u001b[1;33m]\u001b[0m\u001b[1;33m\u001b[0m\u001b[0m\n\u001b[1;32m--> 404\u001b[1;33m             \u001b[1;32mfor\u001b[0m \u001b[0mseg\u001b[0m \u001b[1;32min\u001b[0m \u001b[0mself\u001b[0m\u001b[1;33m.\u001b[0m\u001b[0m_plot_args\u001b[0m\u001b[1;33m(\u001b[0m\u001b[0mthis\u001b[0m\u001b[1;33m,\u001b[0m \u001b[0mkwargs\u001b[0m\u001b[1;33m)\u001b[0m\u001b[1;33m:\u001b[0m\u001b[1;33m\u001b[0m\u001b[0m\n\u001b[0m\u001b[0;32m    405\u001b[0m                 \u001b[1;32myield\u001b[0m \u001b[0mseg\u001b[0m\u001b[1;33m\u001b[0m\u001b[0m\n\u001b[0;32m    406\u001b[0m \u001b[1;33m\u001b[0m\u001b[0m\n",
      "\u001b[1;32mC:\\ProgramData\\Anaconda3\\lib\\site-packages\\matplotlib\\axes\\_base.py\u001b[0m in \u001b[0;36m_plot_args\u001b[1;34m(self, tup, kwargs)\u001b[0m\n\u001b[0;32m    380\u001b[0m             \u001b[0my\u001b[0m \u001b[1;33m=\u001b[0m \u001b[0m_check_1d\u001b[0m\u001b[1;33m(\u001b[0m\u001b[0mtup\u001b[0m\u001b[1;33m[\u001b[0m\u001b[1;33m-\u001b[0m\u001b[1;36m1\u001b[0m\u001b[1;33m]\u001b[0m\u001b[1;33m)\u001b[0m\u001b[1;33m\u001b[0m\u001b[0m\n\u001b[0;32m    381\u001b[0m         \u001b[1;32melse\u001b[0m\u001b[1;33m:\u001b[0m\u001b[1;33m\u001b[0m\u001b[0m\n\u001b[1;32m--> 382\u001b[1;33m             \u001b[0mx\u001b[0m\u001b[1;33m,\u001b[0m \u001b[0my\u001b[0m \u001b[1;33m=\u001b[0m \u001b[0mindex_of\u001b[0m\u001b[1;33m(\u001b[0m\u001b[0mtup\u001b[0m\u001b[1;33m[\u001b[0m\u001b[1;33m-\u001b[0m\u001b[1;36m1\u001b[0m\u001b[1;33m]\u001b[0m\u001b[1;33m)\u001b[0m\u001b[1;33m\u001b[0m\u001b[0m\n\u001b[0m\u001b[0;32m    383\u001b[0m \u001b[1;33m\u001b[0m\u001b[0m\n\u001b[0;32m    384\u001b[0m         \u001b[0mx\u001b[0m\u001b[1;33m,\u001b[0m \u001b[0my\u001b[0m \u001b[1;33m=\u001b[0m \u001b[0mself\u001b[0m\u001b[1;33m.\u001b[0m\u001b[0m_xy_from_xy\u001b[0m\u001b[1;33m(\u001b[0m\u001b[0mx\u001b[0m\u001b[1;33m,\u001b[0m \u001b[0my\u001b[0m\u001b[1;33m)\u001b[0m\u001b[1;33m\u001b[0m\u001b[0m\n",
      "\u001b[1;32mC:\\ProgramData\\Anaconda3\\lib\\site-packages\\matplotlib\\cbook\\__init__.py\u001b[0m in \u001b[0;36mindex_of\u001b[1;34m(y)\u001b[0m\n\u001b[0;32m   2296\u001b[0m     \u001b[1;32mexcept\u001b[0m \u001b[0mAttributeError\u001b[0m\u001b[1;33m:\u001b[0m\u001b[1;33m\u001b[0m\u001b[0m\n\u001b[0;32m   2297\u001b[0m         \u001b[0my\u001b[0m \u001b[1;33m=\u001b[0m \u001b[0m_check_1d\u001b[0m\u001b[1;33m(\u001b[0m\u001b[0my\u001b[0m\u001b[1;33m)\u001b[0m\u001b[1;33m\u001b[0m\u001b[0m\n\u001b[1;32m-> 2298\u001b[1;33m         \u001b[1;32mreturn\u001b[0m \u001b[0mnp\u001b[0m\u001b[1;33m.\u001b[0m\u001b[0marange\u001b[0m\u001b[1;33m(\u001b[0m\u001b[0my\u001b[0m\u001b[1;33m.\u001b[0m\u001b[0mshape\u001b[0m\u001b[1;33m[\u001b[0m\u001b[1;36m0\u001b[0m\u001b[1;33m]\u001b[0m\u001b[1;33m,\u001b[0m \u001b[0mdtype\u001b[0m\u001b[1;33m=\u001b[0m\u001b[0mfloat\u001b[0m\u001b[1;33m)\u001b[0m\u001b[1;33m,\u001b[0m \u001b[0my\u001b[0m\u001b[1;33m\u001b[0m\u001b[0m\n\u001b[0m\u001b[0;32m   2299\u001b[0m \u001b[1;33m\u001b[0m\u001b[0m\n\u001b[0;32m   2300\u001b[0m \u001b[1;33m\u001b[0m\u001b[0m\n",
      "\u001b[1;31mTypeError\u001b[0m: unsupported operand type(s) for /: 'Dimension' and 'int'"
     ]
    }
   ],
   "source": [
    "plt.plot(x)\n",
    "plt.show()"
   ]
  },
  {
   "cell_type": "markdown",
   "metadata": {
    "collapsed": true
   },
   "source": [
    "# Inverse Problem\n",
    "\n",
    "Given our Darcy Flow system, some coefficents of $u_{i}$ corrupted by additive noise $\\mathcal{N}(0, \\sigma^{2})$, and knowledge of $f(x)$, it is our job to infer the paramters $k_{\\alpha}$. \n",
    "\n",
    "This section referse to a case where:\n",
    "\n",
    "\\begin{equation}\n",
    "    - \\frac{d}{dx}(e^{u(x)} \\frac{dp}{dx}(x)) = f(x)\n",
    "\\end{equation}\n",
    "\n",
    "Data, In this case, we assume we have 3 data points:\n",
    "\n",
    "\\begin{align}\n",
    "    y &= [u(x_{1}), u(x_{4}), u(x_{9})] + \\mathcal{N}(0, \\sigma^{2})\n",
    "\\end{align}\n",
    "\n",
    "Centered gaussian prior on u:\n",
    "\n",
    "\\begin{equation}\n",
    "    \\text{log prior density}(u) = - \\sum_{k=1}^{A} \\rho_k^2 (u_k)^2, \\rho_k \\sim \\frac{1}{k}\n",
    "\\end{equation}\n",
    "\n",
    "Write G for the u-to-y map, $G: \\mathbb{R}^K \\rightarrow \\mathbb{R}^3$. (3 because we have 3 data points.)\n",
    "\n",
    "\\begin{equation}\n",
    "    G(u) = [u(x_{1}), u(x_{4}), u(x_{9})]\n",
    "\\end{equation}\n",
    "\n",
    "Gaussian observerd noise:\n",
    "\n",
    "\\begin{equation}\n",
    "    \\text{log likelihood}(u) = - \\frac{1}{2 \\sigma^2} ||G(u) - y||_{\\mathbb{R}^3, 2}^{2}\n",
    "\\end{equation}\n",
    "\n",
    "Log posterior to sample from (u|y)\n",
    "\n",
    "\\begin{equation}\n",
    "    \\text{log posterior}(u|y) = - \\frac{1}{2 \\sigma^2} ||G(u) - y||_{\\mathbb{R}^3, 2}^{2} + \\sum_{k=1}^{A} \\rho_k^2 u_k^2\n",
    "\\end{equation}\n",
    "\n",
    "The functions below use notation consistent with the forward solver"
   ]
  },
  {
   "cell_type": "code",
   "execution_count": 7,
   "metadata": {
    "collapsed": true
   },
   "outputs": [],
   "source": [
    "import scipy.stats"
   ]
  },
  {
   "cell_type": "code",
   "execution_count": null,
   "metadata": {
    "collapsed": true
   },
   "outputs": [],
   "source": [
    "# Random Walk MCMC Function\n",
    "def metropolis_step(state, proposal_dist, target_dist):\n",
    "    proposed_state = state + proposal_dist.rvs()\n",
    "\n",
    "    acceptance_prob = min([0, target_dist(proposed_state) - target_dist(state)])\n",
    "\n",
    "    if acceptance_prob > 0 or np.log(np.random.rand()) <= acceptance_prob:\n",
    "        return proposed_state\n",
    "    else:\n",
    "        return state"
   ]
  },
  {
   "cell_type": "code",
   "execution_count": 5,
   "metadata": {},
   "outputs": [],
   "source": [
    "def G_pre(k, f, grid):\n",
    "    \"\"\"(almost) Returns a vector of the forward solver given the vector of k_alphas.\"\"\"\n",
    "    aa = A(lambda x: κ(x, k, grid), grid)\n",
    "    bb = b(f, grid)\n",
    "\n",
    "    return aa, bb\n",
    "\n",
    "def spec_metropolis_step(state, data, data_inds, noise_sigma, prop_sigma, f, grid):\n",
    "    def GG(f, grid):\n",
    "        def gg(k):\n",
    "            aa, bb = G_pre(k, f, grid)\n",
    "            return np.linalg.solve(aa, bb)\n",
    "        return gg\n",
    "    \n",
    "    G = GG(f, grid)\n",
    "    \n",
    "    proposal_dist = scipy.stats.multivariate_normal(np.zeros_like(grid),\n",
    "                                                    np.eye(grid.shape[0]) * prop_sigma ** 2)\n",
    "    proposed_state = state + proposal_dist.rvs()\n",
    "    alpha = (np.linalg.norm(data - G(state)[data_inds]) ** 2 -\n",
    "             np.linalg.norm(data - G(proposed_state)[data_inds]) ** 2) / (2 * noise_sigma ** 2)\n",
    "    alpha += (np.linalg.norm(state) ** 2 - np.linalg.norm(proposed_state)) / (2 * prop_sigma ** 2)\n",
    "    \n",
    "    if alpha > 0 or np.log(np.random.rand()) <= alpha:\n",
    "        return proposed_state\n",
    "    else:\n",
    "        return state\n",
    "    \n",
    "\n",
    "def target(data, data_inds, prior_k, prior_sigma, noise_sigma, f, grid):\n",
    "    def logposterior(x):\n",
    "        aa, bb = G_pre(x, f, grid)\n",
    "        return -( \n",
    "            (1/(2 * noise_sigma**2) * (np.linalg.solve(aa, bb)[data_inds] - data) + \n",
    "             prior_k.norm / (2 * prior_sigma**2))\n",
    "        )\n",
    "    return logposterior"
   ]
  },
  {
   "cell_type": "code",
   "execution_count": 10,
   "metadata": {},
   "outputs": [],
   "source": [
    "# MCMC Execution\n",
    "data = np.asarray([1,.5,0.2])\n",
    "data_inds = [0, 3, 7]\n",
    "f = lambda x: 1\n",
    "\n",
    "noise_sigma = 1\n",
    "prop_sigma = 1\n",
    "\n",
    "nodes = 10\n",
    "g = grid(nodes)\n",
    "states = [np.zeros_like(g)]\n",
    "steps = 10\n",
    "\n",
    "for i in range(steps):\n",
    "    states.append(spec_metropolis_step(states[-1], \n",
    "                                       data,\n",
    "                                       data_inds,\n",
    "                                       noise_sigma,\n",
    "                                       prop_sigma,\n",
    "                                       f,\n",
    "                                       g))\n",
    "    \n",
    "states = np.asarray(states)"
   ]
  },
  {
   "cell_type": "code",
   "execution_count": 22,
   "metadata": {
    "collapsed": true
   },
   "outputs": [],
   "source": [
    "import pymc3 as pm\n",
    "from sampled import sampled\n",
    "import theano.tensor as tt"
   ]
  },
  {
   "cell_type": "code",
   "execution_count": 41,
   "metadata": {
    "collapsed": true
   },
   "outputs": [],
   "source": [
    "def G_pre(k, f, grid):\n",
    "    \"\"\"(almost) Returns a vector of the forward solver given the vector of k_alphas.\"\"\"\n",
    "    aa = A(lambda x: κ(x, k, grid), grid)\n",
    "    bb = b(f, grid)\n",
    "\n",
    "    return aa, bb\n",
    "#     return np.linalg.solve(aa, bb)\n",
    "\n",
    "def tt_distribution(data, data_inds, prior_k, prior_sigma, noise_sigma, f, grid):\n",
    "    def logposterior(x):\n",
    "        aa, bb = G_pre(x, f, grid)\n",
    "        return - (1/(2 * noise_sigma**2) (tt.slinalg.solve(aa, bb)[data_inds] - data) + prior_k.norm / (2 * prior_sigma**2))\n",
    "    return logposterior\n",
    "\n",
    "g = grid(10)\n",
    "@sampled\n",
    "def post(data, data_inds, prior_k, grid, prior_sigma=1, noise_sigma=1, f=lambda x:1):\n",
    "    dim = grid.shape[0]\n",
    "    testval = np.zeros(dim)\n",
    "    pm.DensityDist('post', \n",
    "                   logp=tt_distribution(data, data_inds, prior_k, prior_sigma, noise_sigma, f, grid), \n",
    "                   shape=dim, \n",
    "                   testval=testval)"
   ]
  },
  {
   "cell_type": "code",
   "execution_count": 45,
   "metadata": {},
   "outputs": [
    {
     "ename": "TypeError",
     "evalue": "post() missing 4 required positional arguments: 'data', 'data_inds', 'prior_k', and 'grid'",
     "output_type": "error",
     "traceback": [
      "\u001b[1;31m---------------------------------------------------------------------------\u001b[0m",
      "\u001b[1;31mTypeError\u001b[0m                                 Traceback (most recent call last)",
      "\u001b[1;32mC:\\ProgramData\\Anaconda3\\lib\\site-packages\\sampled\\sampled.py\u001b[0m in \u001b[0;36mwrapped_f\u001b[1;34m(**observed)\u001b[0m\n\u001b[0;32m     20\u001b[0m             \u001b[1;32mwith\u001b[0m \u001b[0mObserverModel\u001b[0m\u001b[1;33m(\u001b[0m\u001b[0mobserved\u001b[0m\u001b[1;33m)\u001b[0m \u001b[1;32mas\u001b[0m \u001b[0mmodel\u001b[0m\u001b[1;33m:\u001b[0m\u001b[1;33m\u001b[0m\u001b[0m\n\u001b[1;32m---> 21\u001b[1;33m                 \u001b[0mf\u001b[0m\u001b[1;33m(\u001b[0m\u001b[1;33m**\u001b[0m\u001b[0mobserved\u001b[0m\u001b[1;33m)\u001b[0m\u001b[1;33m\u001b[0m\u001b[0m\n\u001b[0m\u001b[0;32m     22\u001b[0m         \u001b[1;32mexcept\u001b[0m \u001b[0mTypeError\u001b[0m\u001b[1;33m:\u001b[0m\u001b[1;33m\u001b[0m\u001b[0m\n",
      "\u001b[1;32m<ipython-input-41-a123dd818893>\u001b[0m in \u001b[0;36mpost\u001b[1;34m(data, data_inds, prior_k, grid, prior_sigma, noise_sigma, f)\u001b[0m\n\u001b[0;32m     22\u001b[0m                    \u001b[0mshape\u001b[0m\u001b[1;33m=\u001b[0m\u001b[0mdim\u001b[0m\u001b[1;33m,\u001b[0m\u001b[1;33m\u001b[0m\u001b[0m\n\u001b[1;32m---> 23\u001b[1;33m                    testval=testval)\n\u001b[0m",
      "\u001b[1;32mC:\\ProgramData\\Anaconda3\\lib\\site-packages\\pymc3\\distributions\\distribution.py\u001b[0m in \u001b[0;36m__new__\u001b[1;34m(cls, name, *args, **kwargs)\u001b[0m\n\u001b[0;32m     36\u001b[0m             \u001b[0mdist\u001b[0m \u001b[1;33m=\u001b[0m \u001b[0mcls\u001b[0m\u001b[1;33m.\u001b[0m\u001b[0mdist\u001b[0m\u001b[1;33m(\u001b[0m\u001b[1;33m*\u001b[0m\u001b[0margs\u001b[0m\u001b[1;33m,\u001b[0m \u001b[1;33m**\u001b[0m\u001b[0mkwargs\u001b[0m\u001b[1;33m)\u001b[0m\u001b[1;33m\u001b[0m\u001b[0m\n\u001b[1;32m---> 37\u001b[1;33m             \u001b[1;32mreturn\u001b[0m \u001b[0mmodel\u001b[0m\u001b[1;33m.\u001b[0m\u001b[0mVar\u001b[0m\u001b[1;33m(\u001b[0m\u001b[0mname\u001b[0m\u001b[1;33m,\u001b[0m \u001b[0mdist\u001b[0m\u001b[1;33m,\u001b[0m \u001b[0mdata\u001b[0m\u001b[1;33m,\u001b[0m \u001b[0mtotal_size\u001b[0m\u001b[1;33m)\u001b[0m\u001b[1;33m\u001b[0m\u001b[0m\n\u001b[0m\u001b[0;32m     38\u001b[0m         \u001b[1;32melse\u001b[0m\u001b[1;33m:\u001b[0m\u001b[1;33m\u001b[0m\u001b[0m\n",
      "\u001b[1;32mC:\\ProgramData\\Anaconda3\\lib\\site-packages\\sampled\\sampled.py\u001b[0m in \u001b[0;36mVar\u001b[1;34m(self, name, dist, data, total_size)\u001b[0m\n\u001b[0;32m     12\u001b[0m                                               \u001b[0mdata\u001b[0m\u001b[1;33m=\u001b[0m\u001b[0mself\u001b[0m\u001b[1;33m.\u001b[0m\u001b[0mobserved\u001b[0m\u001b[1;33m.\u001b[0m\u001b[0mget\u001b[0m\u001b[1;33m(\u001b[0m\u001b[0mname\u001b[0m\u001b[1;33m,\u001b[0m \u001b[0mdata\u001b[0m\u001b[1;33m)\u001b[0m\u001b[1;33m,\u001b[0m\u001b[1;33m\u001b[0m\u001b[0m\n\u001b[1;32m---> 13\u001b[1;33m                                               total_size=total_size)\n\u001b[0m\u001b[0;32m     14\u001b[0m \u001b[1;33m\u001b[0m\u001b[0m\n",
      "\u001b[1;32mC:\\ProgramData\\Anaconda3\\lib\\site-packages\\pymc3\\model.py\u001b[0m in \u001b[0;36mVar\u001b[1;34m(self, name, dist, data, total_size)\u001b[0m\n\u001b[0;32m    751\u001b[0m                     var = FreeRV(name=name, distribution=dist,\n\u001b[1;32m--> 752\u001b[1;33m                                  total_size=total_size, model=self)\n\u001b[0m\u001b[0;32m    753\u001b[0m                 \u001b[0mself\u001b[0m\u001b[1;33m.\u001b[0m\u001b[0mfree_RVs\u001b[0m\u001b[1;33m.\u001b[0m\u001b[0mappend\u001b[0m\u001b[1;33m(\u001b[0m\u001b[0mvar\u001b[0m\u001b[1;33m)\u001b[0m\u001b[1;33m\u001b[0m\u001b[0m\n",
      "\u001b[1;32mC:\\ProgramData\\Anaconda3\\lib\\site-packages\\pymc3\\model.py\u001b[0m in \u001b[0;36m__init__\u001b[1;34m(self, type, owner, index, name, distribution, total_size, model)\u001b[0m\n\u001b[0;32m   1122\u001b[0m                 distribution.shape, distribution.dtype) * distribution.default()\n\u001b[1;32m-> 1123\u001b[1;33m             \u001b[0mself\u001b[0m\u001b[1;33m.\u001b[0m\u001b[0mlogp_elemwiset\u001b[0m \u001b[1;33m=\u001b[0m \u001b[0mdistribution\u001b[0m\u001b[1;33m.\u001b[0m\u001b[0mlogp\u001b[0m\u001b[1;33m(\u001b[0m\u001b[0mself\u001b[0m\u001b[1;33m)\u001b[0m\u001b[1;33m\u001b[0m\u001b[0m\n\u001b[0m\u001b[0;32m   1124\u001b[0m             \u001b[1;31m# The logp might need scaling in minibatches.\u001b[0m\u001b[1;33m\u001b[0m\u001b[1;33m\u001b[0m\u001b[0m\n",
      "\u001b[1;32m<ipython-input-41-a123dd818893>\u001b[0m in \u001b[0;36mlogposterior\u001b[1;34m(x)\u001b[0m\n\u001b[0;32m     10\u001b[0m     \u001b[1;32mdef\u001b[0m \u001b[0mlogposterior\u001b[0m\u001b[1;33m(\u001b[0m\u001b[0mx\u001b[0m\u001b[1;33m)\u001b[0m\u001b[1;33m:\u001b[0m\u001b[1;33m\u001b[0m\u001b[0m\n\u001b[1;32m---> 11\u001b[1;33m         \u001b[0maa\u001b[0m\u001b[1;33m,\u001b[0m \u001b[0mbb\u001b[0m \u001b[1;33m=\u001b[0m \u001b[0mG_pre\u001b[0m\u001b[1;33m(\u001b[0m\u001b[0mx\u001b[0m\u001b[1;33m,\u001b[0m \u001b[0mf\u001b[0m\u001b[1;33m,\u001b[0m \u001b[0mgrid\u001b[0m\u001b[1;33m)\u001b[0m\u001b[1;33m\u001b[0m\u001b[0m\n\u001b[0m\u001b[0;32m     12\u001b[0m         \u001b[1;32mreturn\u001b[0m \u001b[1;33m-\u001b[0m \u001b[1;33m(\u001b[0m\u001b[1;36m1\u001b[0m\u001b[1;33m/\u001b[0m\u001b[1;33m(\u001b[0m\u001b[1;36m2\u001b[0m \u001b[1;33m*\u001b[0m \u001b[0mnoise_sigma\u001b[0m\u001b[1;33m**\u001b[0m\u001b[1;36m2\u001b[0m\u001b[1;33m)\u001b[0m \u001b[1;33m(\u001b[0m\u001b[0mtt\u001b[0m\u001b[1;33m.\u001b[0m\u001b[0mslinalg\u001b[0m\u001b[1;33m.\u001b[0m\u001b[0msolve\u001b[0m\u001b[1;33m(\u001b[0m\u001b[0maa\u001b[0m\u001b[1;33m,\u001b[0m \u001b[0mbb\u001b[0m\u001b[1;33m)\u001b[0m\u001b[1;33m[\u001b[0m\u001b[0mdata_inds\u001b[0m\u001b[1;33m]\u001b[0m \u001b[1;33m-\u001b[0m \u001b[0mdata\u001b[0m\u001b[1;33m)\u001b[0m \u001b[1;33m+\u001b[0m \u001b[0mprior_k\u001b[0m\u001b[1;33m.\u001b[0m\u001b[0mnorm\u001b[0m \u001b[1;33m/\u001b[0m \u001b[1;33m(\u001b[0m\u001b[1;36m2\u001b[0m \u001b[1;33m*\u001b[0m \u001b[0mprior_sigma\u001b[0m\u001b[1;33m**\u001b[0m\u001b[1;36m2\u001b[0m\u001b[1;33m)\u001b[0m\u001b[1;33m)\u001b[0m\u001b[1;33m\u001b[0m\u001b[0m\n",
      "\u001b[1;32m<ipython-input-41-a123dd818893>\u001b[0m in \u001b[0;36mG_pre\u001b[1;34m(k, f, grid)\u001b[0m\n\u001b[0;32m      2\u001b[0m     \u001b[1;34m\"\"\"(almost) Returns a vector of the forward solver given the vector of k_alphas.\"\"\"\u001b[0m\u001b[1;33m\u001b[0m\u001b[0m\n\u001b[1;32m----> 3\u001b[1;33m     \u001b[0maa\u001b[0m \u001b[1;33m=\u001b[0m \u001b[0mA\u001b[0m\u001b[1;33m(\u001b[0m\u001b[1;32mlambda\u001b[0m \u001b[0mx\u001b[0m\u001b[1;33m:\u001b[0m \u001b[0mκ\u001b[0m\u001b[1;33m(\u001b[0m\u001b[0mx\u001b[0m\u001b[1;33m,\u001b[0m \u001b[0mk\u001b[0m\u001b[1;33m,\u001b[0m \u001b[0mgrid\u001b[0m\u001b[1;33m)\u001b[0m\u001b[1;33m,\u001b[0m \u001b[0mgrid\u001b[0m\u001b[1;33m)\u001b[0m\u001b[1;33m\u001b[0m\u001b[0m\n\u001b[0m\u001b[0;32m      4\u001b[0m     \u001b[0mbb\u001b[0m \u001b[1;33m=\u001b[0m \u001b[0mb\u001b[0m\u001b[1;33m(\u001b[0m\u001b[0mf\u001b[0m\u001b[1;33m,\u001b[0m \u001b[0mgrid\u001b[0m\u001b[1;33m)\u001b[0m\u001b[1;33m\u001b[0m\u001b[0m\n",
      "\u001b[1;32m<ipython-input-12-b38bcd539b22>\u001b[0m in \u001b[0;36mA\u001b[1;34m(k, grid)\u001b[0m\n\u001b[0;32m     44\u001b[0m     \u001b[0mval\u001b[0m \u001b[1;33m=\u001b[0m \u001b[1;32mlambda\u001b[0m \u001b[0mx\u001b[0m\u001b[1;33m,\u001b[0m \u001b[0my\u001b[0m\u001b[1;33m:\u001b[0m \u001b[0mscipy\u001b[0m\u001b[1;33m.\u001b[0m\u001b[0mintegrate\u001b[0m\u001b[1;33m.\u001b[0m\u001b[0mquad\u001b[0m\u001b[1;33m(\u001b[0m\u001b[0mk\u001b[0m\u001b[1;33m,\u001b[0m \u001b[0mx\u001b[0m\u001b[1;33m,\u001b[0m \u001b[0my\u001b[0m\u001b[1;33m,\u001b[0m \u001b[0mlimit\u001b[0m\u001b[1;33m=\u001b[0m\u001b[1;36m100\u001b[0m\u001b[1;33m)\u001b[0m\u001b[1;33m[\u001b[0m\u001b[1;36m0\u001b[0m\u001b[1;33m]\u001b[0m\u001b[1;33m\u001b[0m\u001b[0m\n\u001b[1;32m---> 45\u001b[1;33m     \u001b[0mlo_di\u001b[0m \u001b[1;33m=\u001b[0m \u001b[0mnp\u001b[0m\u001b[1;33m.\u001b[0m\u001b[0masarray\u001b[0m\u001b[1;33m(\u001b[0m\u001b[1;33m[\u001b[0m \u001b[0mval\u001b[0m\u001b[1;33m(\u001b[0m\u001b[0mgrid\u001b[0m\u001b[1;33m[\u001b[0m\u001b[0mi\u001b[0m\u001b[1;33m-\u001b[0m\u001b[1;36m1\u001b[0m\u001b[1;33m]\u001b[0m\u001b[1;33m,\u001b[0m \u001b[0mgrid\u001b[0m\u001b[1;33m[\u001b[0m\u001b[0mi\u001b[0m\u001b[1;33m]\u001b[0m  \u001b[1;33m)\u001b[0m \u001b[1;32mfor\u001b[0m \u001b[0mi\u001b[0m \u001b[1;32min\u001b[0m \u001b[0mrange\u001b[0m\u001b[1;33m(\u001b[0m\u001b[1;36m2\u001b[0m\u001b[1;33m,\u001b[0m \u001b[0mgrid\u001b[0m\u001b[1;33m.\u001b[0m\u001b[0msize\u001b[0m \u001b[1;33m-\u001b[0m \u001b[1;36m1\u001b[0m\u001b[1;33m)\u001b[0m\u001b[1;33m]\u001b[0m\u001b[1;33m)\u001b[0m\u001b[1;33m\u001b[0m\u001b[0m\n\u001b[0m\u001b[0;32m     46\u001b[0m     \u001b[0mdi\u001b[0m    \u001b[1;33m=\u001b[0m \u001b[0mnp\u001b[0m\u001b[1;33m.\u001b[0m\u001b[0masarray\u001b[0m\u001b[1;33m(\u001b[0m\u001b[1;33m[\u001b[0m\u001b[1;33m-\u001b[0m\u001b[0mval\u001b[0m\u001b[1;33m(\u001b[0m\u001b[0mgrid\u001b[0m\u001b[1;33m[\u001b[0m\u001b[0mi\u001b[0m\u001b[1;33m-\u001b[0m\u001b[1;36m1\u001b[0m\u001b[1;33m]\u001b[0m\u001b[1;33m,\u001b[0m \u001b[0mgrid\u001b[0m\u001b[1;33m[\u001b[0m\u001b[0mi\u001b[0m\u001b[1;33m+\u001b[0m\u001b[1;36m1\u001b[0m\u001b[1;33m]\u001b[0m\u001b[1;33m)\u001b[0m \u001b[1;32mfor\u001b[0m \u001b[0mi\u001b[0m \u001b[1;32min\u001b[0m \u001b[0mrange\u001b[0m\u001b[1;33m(\u001b[0m\u001b[1;36m1\u001b[0m\u001b[1;33m,\u001b[0m \u001b[0mgrid\u001b[0m\u001b[1;33m.\u001b[0m\u001b[0msize\u001b[0m \u001b[1;33m-\u001b[0m \u001b[1;36m1\u001b[0m\u001b[1;33m)\u001b[0m\u001b[1;33m]\u001b[0m\u001b[1;33m)\u001b[0m\u001b[1;33m\u001b[0m\u001b[0m\n",
      "\u001b[1;32m<ipython-input-12-b38bcd539b22>\u001b[0m in \u001b[0;36m<listcomp>\u001b[1;34m(.0)\u001b[0m\n\u001b[0;32m     44\u001b[0m     \u001b[0mval\u001b[0m \u001b[1;33m=\u001b[0m \u001b[1;32mlambda\u001b[0m \u001b[0mx\u001b[0m\u001b[1;33m,\u001b[0m \u001b[0my\u001b[0m\u001b[1;33m:\u001b[0m \u001b[0mscipy\u001b[0m\u001b[1;33m.\u001b[0m\u001b[0mintegrate\u001b[0m\u001b[1;33m.\u001b[0m\u001b[0mquad\u001b[0m\u001b[1;33m(\u001b[0m\u001b[0mk\u001b[0m\u001b[1;33m,\u001b[0m \u001b[0mx\u001b[0m\u001b[1;33m,\u001b[0m \u001b[0my\u001b[0m\u001b[1;33m,\u001b[0m \u001b[0mlimit\u001b[0m\u001b[1;33m=\u001b[0m\u001b[1;36m100\u001b[0m\u001b[1;33m)\u001b[0m\u001b[1;33m[\u001b[0m\u001b[1;36m0\u001b[0m\u001b[1;33m]\u001b[0m\u001b[1;33m\u001b[0m\u001b[0m\n\u001b[1;32m---> 45\u001b[1;33m     \u001b[0mlo_di\u001b[0m \u001b[1;33m=\u001b[0m \u001b[0mnp\u001b[0m\u001b[1;33m.\u001b[0m\u001b[0masarray\u001b[0m\u001b[1;33m(\u001b[0m\u001b[1;33m[\u001b[0m \u001b[0mval\u001b[0m\u001b[1;33m(\u001b[0m\u001b[0mgrid\u001b[0m\u001b[1;33m[\u001b[0m\u001b[0mi\u001b[0m\u001b[1;33m-\u001b[0m\u001b[1;36m1\u001b[0m\u001b[1;33m]\u001b[0m\u001b[1;33m,\u001b[0m \u001b[0mgrid\u001b[0m\u001b[1;33m[\u001b[0m\u001b[0mi\u001b[0m\u001b[1;33m]\u001b[0m  \u001b[1;33m)\u001b[0m \u001b[1;32mfor\u001b[0m \u001b[0mi\u001b[0m \u001b[1;32min\u001b[0m \u001b[0mrange\u001b[0m\u001b[1;33m(\u001b[0m\u001b[1;36m2\u001b[0m\u001b[1;33m,\u001b[0m \u001b[0mgrid\u001b[0m\u001b[1;33m.\u001b[0m\u001b[0msize\u001b[0m \u001b[1;33m-\u001b[0m \u001b[1;36m1\u001b[0m\u001b[1;33m)\u001b[0m\u001b[1;33m]\u001b[0m\u001b[1;33m)\u001b[0m\u001b[1;33m\u001b[0m\u001b[0m\n\u001b[0m\u001b[0;32m     46\u001b[0m     \u001b[0mdi\u001b[0m    \u001b[1;33m=\u001b[0m \u001b[0mnp\u001b[0m\u001b[1;33m.\u001b[0m\u001b[0masarray\u001b[0m\u001b[1;33m(\u001b[0m\u001b[1;33m[\u001b[0m\u001b[1;33m-\u001b[0m\u001b[0mval\u001b[0m\u001b[1;33m(\u001b[0m\u001b[0mgrid\u001b[0m\u001b[1;33m[\u001b[0m\u001b[0mi\u001b[0m\u001b[1;33m-\u001b[0m\u001b[1;36m1\u001b[0m\u001b[1;33m]\u001b[0m\u001b[1;33m,\u001b[0m \u001b[0mgrid\u001b[0m\u001b[1;33m[\u001b[0m\u001b[0mi\u001b[0m\u001b[1;33m+\u001b[0m\u001b[1;36m1\u001b[0m\u001b[1;33m]\u001b[0m\u001b[1;33m)\u001b[0m \u001b[1;32mfor\u001b[0m \u001b[0mi\u001b[0m \u001b[1;32min\u001b[0m \u001b[0mrange\u001b[0m\u001b[1;33m(\u001b[0m\u001b[1;36m1\u001b[0m\u001b[1;33m,\u001b[0m \u001b[0mgrid\u001b[0m\u001b[1;33m.\u001b[0m\u001b[0msize\u001b[0m \u001b[1;33m-\u001b[0m \u001b[1;36m1\u001b[0m\u001b[1;33m)\u001b[0m\u001b[1;33m]\u001b[0m\u001b[1;33m)\u001b[0m\u001b[1;33m\u001b[0m\u001b[0m\n",
      "\u001b[1;32m<ipython-input-12-b38bcd539b22>\u001b[0m in \u001b[0;36m<lambda>\u001b[1;34m(x, y)\u001b[0m\n\u001b[0;32m     43\u001b[0m \u001b[1;32mdef\u001b[0m \u001b[0mA\u001b[0m\u001b[1;33m(\u001b[0m\u001b[0mk\u001b[0m\u001b[1;33m,\u001b[0m \u001b[0mgrid\u001b[0m\u001b[1;33m)\u001b[0m\u001b[1;33m:\u001b[0m\u001b[1;33m\u001b[0m\u001b[0m\n\u001b[1;32m---> 44\u001b[1;33m     \u001b[0mval\u001b[0m \u001b[1;33m=\u001b[0m \u001b[1;32mlambda\u001b[0m \u001b[0mx\u001b[0m\u001b[1;33m,\u001b[0m \u001b[0my\u001b[0m\u001b[1;33m:\u001b[0m \u001b[0mscipy\u001b[0m\u001b[1;33m.\u001b[0m\u001b[0mintegrate\u001b[0m\u001b[1;33m.\u001b[0m\u001b[0mquad\u001b[0m\u001b[1;33m(\u001b[0m\u001b[0mk\u001b[0m\u001b[1;33m,\u001b[0m \u001b[0mx\u001b[0m\u001b[1;33m,\u001b[0m \u001b[0my\u001b[0m\u001b[1;33m,\u001b[0m \u001b[0mlimit\u001b[0m\u001b[1;33m=\u001b[0m\u001b[1;36m100\u001b[0m\u001b[1;33m)\u001b[0m\u001b[1;33m[\u001b[0m\u001b[1;36m0\u001b[0m\u001b[1;33m]\u001b[0m\u001b[1;33m\u001b[0m\u001b[0m\n\u001b[0m\u001b[0;32m     45\u001b[0m     \u001b[0mlo_di\u001b[0m \u001b[1;33m=\u001b[0m \u001b[0mnp\u001b[0m\u001b[1;33m.\u001b[0m\u001b[0masarray\u001b[0m\u001b[1;33m(\u001b[0m\u001b[1;33m[\u001b[0m \u001b[0mval\u001b[0m\u001b[1;33m(\u001b[0m\u001b[0mgrid\u001b[0m\u001b[1;33m[\u001b[0m\u001b[0mi\u001b[0m\u001b[1;33m-\u001b[0m\u001b[1;36m1\u001b[0m\u001b[1;33m]\u001b[0m\u001b[1;33m,\u001b[0m \u001b[0mgrid\u001b[0m\u001b[1;33m[\u001b[0m\u001b[0mi\u001b[0m\u001b[1;33m]\u001b[0m  \u001b[1;33m)\u001b[0m \u001b[1;32mfor\u001b[0m \u001b[0mi\u001b[0m \u001b[1;32min\u001b[0m \u001b[0mrange\u001b[0m\u001b[1;33m(\u001b[0m\u001b[1;36m2\u001b[0m\u001b[1;33m,\u001b[0m \u001b[0mgrid\u001b[0m\u001b[1;33m.\u001b[0m\u001b[0msize\u001b[0m \u001b[1;33m-\u001b[0m \u001b[1;36m1\u001b[0m\u001b[1;33m)\u001b[0m\u001b[1;33m]\u001b[0m\u001b[1;33m)\u001b[0m\u001b[1;33m\u001b[0m\u001b[0m\n",
      "\u001b[1;32mC:\\ProgramData\\Anaconda3\\lib\\site-packages\\scipy\\integrate\\quadpack.py\u001b[0m in \u001b[0;36mquad\u001b[1;34m(func, a, b, args, full_output, epsabs, epsrel, limit, points, weight, wvar, wopts, maxp1, limlst)\u001b[0m\n\u001b[0;32m    322\u001b[0m         retval = _quad(func, a, b, args, full_output, epsabs, epsrel, limit,\n\u001b[1;32m--> 323\u001b[1;33m                        points)\n\u001b[0m\u001b[0;32m    324\u001b[0m     \u001b[1;32melse\u001b[0m\u001b[1;33m:\u001b[0m\u001b[1;33m\u001b[0m\u001b[0m\n",
      "\u001b[1;32mC:\\ProgramData\\Anaconda3\\lib\\site-packages\\scipy\\integrate\\quadpack.py\u001b[0m in \u001b[0;36m_quad\u001b[1;34m(func, a, b, args, full_output, epsabs, epsrel, limit, points)\u001b[0m\n\u001b[0;32m    387\u001b[0m         \u001b[1;32mif\u001b[0m \u001b[0minfbounds\u001b[0m \u001b[1;33m==\u001b[0m \u001b[1;36m0\u001b[0m\u001b[1;33m:\u001b[0m\u001b[1;33m\u001b[0m\u001b[0m\n\u001b[1;32m--> 388\u001b[1;33m             \u001b[1;32mreturn\u001b[0m \u001b[0m_quadpack\u001b[0m\u001b[1;33m.\u001b[0m\u001b[0m_qagse\u001b[0m\u001b[1;33m(\u001b[0m\u001b[0mfunc\u001b[0m\u001b[1;33m,\u001b[0m\u001b[0ma\u001b[0m\u001b[1;33m,\u001b[0m\u001b[0mb\u001b[0m\u001b[1;33m,\u001b[0m\u001b[0margs\u001b[0m\u001b[1;33m,\u001b[0m\u001b[0mfull_output\u001b[0m\u001b[1;33m,\u001b[0m\u001b[0mepsabs\u001b[0m\u001b[1;33m,\u001b[0m\u001b[0mepsrel\u001b[0m\u001b[1;33m,\u001b[0m\u001b[0mlimit\u001b[0m\u001b[1;33m)\u001b[0m\u001b[1;33m\u001b[0m\u001b[0m\n\u001b[0m\u001b[0;32m    389\u001b[0m         \u001b[1;32melse\u001b[0m\u001b[1;33m:\u001b[0m\u001b[1;33m\u001b[0m\u001b[0m\n",
      "\u001b[1;31mTypeError\u001b[0m: must be real number, not TensorVariable",
      "\nDuring handling of the above exception, another exception occurred:\n",
      "\u001b[1;31mTypeError\u001b[0m                                 Traceback (most recent call last)",
      "\u001b[1;32m<ipython-input-45-e3b59df87329>\u001b[0m in \u001b[0;36m<module>\u001b[1;34m()\u001b[0m\n\u001b[0;32m      4\u001b[0m \u001b[0mg\u001b[0m \u001b[1;33m=\u001b[0m \u001b[0mgrid\u001b[0m\u001b[1;33m(\u001b[0m\u001b[0mdata\u001b[0m\u001b[1;33m.\u001b[0m\u001b[0mshape\u001b[0m\u001b[1;33m[\u001b[0m\u001b[1;36m0\u001b[0m\u001b[1;33m]\u001b[0m\u001b[1;33m)\u001b[0m\u001b[1;33m\u001b[0m\u001b[0m\n\u001b[0;32m      5\u001b[0m \u001b[1;33m\u001b[0m\u001b[0m\n\u001b[1;32m----> 6\u001b[1;33m \u001b[1;32mwith\u001b[0m \u001b[0mpost\u001b[0m\u001b[1;33m(\u001b[0m\u001b[0mdata\u001b[0m\u001b[1;33m=\u001b[0m\u001b[0mdata\u001b[0m\u001b[1;33m,\u001b[0m \u001b[0mdata_inds\u001b[0m\u001b[1;33m=\u001b[0m\u001b[0mdata_inds\u001b[0m\u001b[1;33m,\u001b[0m \u001b[0mprior_k\u001b[0m\u001b[1;33m=\u001b[0m\u001b[0mprior_k\u001b[0m\u001b[1;33m,\u001b[0m \u001b[0mgrid\u001b[0m\u001b[1;33m=\u001b[0m\u001b[0mg\u001b[0m\u001b[1;33m)\u001b[0m\u001b[1;33m:\u001b[0m\u001b[1;33m\u001b[0m\u001b[0m\n\u001b[0m\u001b[0;32m      7\u001b[0m     \u001b[0mstep\u001b[0m \u001b[1;33m=\u001b[0m \u001b[0mpm\u001b[0m\u001b[1;33m.\u001b[0m\u001b[0mNUTS\u001b[0m\u001b[1;33m(\u001b[0m\u001b[1;33m)\u001b[0m\u001b[1;33m\u001b[0m\u001b[0m\n\u001b[0;32m      8\u001b[0m     metropolis_sample = pm.sample(draws=1000, step=step, \n",
      "\u001b[1;32mC:\\ProgramData\\Anaconda3\\lib\\site-packages\\sampled\\sampled.py\u001b[0m in \u001b[0;36mwrapped_f\u001b[1;34m(**observed)\u001b[0m\n\u001b[0;32m     22\u001b[0m         \u001b[1;32mexcept\u001b[0m \u001b[0mTypeError\u001b[0m\u001b[1;33m:\u001b[0m\u001b[1;33m\u001b[0m\u001b[0m\n\u001b[0;32m     23\u001b[0m             \u001b[1;32mwith\u001b[0m \u001b[0mObserverModel\u001b[0m\u001b[1;33m(\u001b[0m\u001b[0mobserved\u001b[0m\u001b[1;33m)\u001b[0m \u001b[1;32mas\u001b[0m \u001b[0mmodel\u001b[0m\u001b[1;33m:\u001b[0m\u001b[1;33m\u001b[0m\u001b[0m\n\u001b[1;32m---> 24\u001b[1;33m                 \u001b[0mf\u001b[0m\u001b[1;33m(\u001b[0m\u001b[1;33m)\u001b[0m\u001b[1;33m\u001b[0m\u001b[0m\n\u001b[0m\u001b[0;32m     25\u001b[0m         \u001b[1;32mreturn\u001b[0m \u001b[0mmodel\u001b[0m\u001b[1;33m\u001b[0m\u001b[0m\n\u001b[0;32m     26\u001b[0m     \u001b[1;32mreturn\u001b[0m \u001b[0mwrapped_f\u001b[0m\u001b[1;33m\u001b[0m\u001b[0m\n",
      "\u001b[1;31mTypeError\u001b[0m: post() missing 4 required positional arguments: 'data', 'data_inds', 'prior_k', and 'grid'"
     ]
    }
   ],
   "source": [
    "data = np.asarray([1,1,1,1])\n",
    "data_inds = np.arange(data.shape[0])\n",
    "prior_k = np.asarray([1,1,1,1])\n",
    "g = grid(data.shape[0])\n",
    "\n",
    "with post(data=data, data_inds=data_inds, prior_k=prior_k, grid=g):\n",
    "    step = pm.NUTS()\n",
    "    metropolis_sample = pm.sample(draws=1000, step=step, \n",
    "                                  tune=500, discard_tuned_samples=True)"
   ]
  },
  {
   "cell_type": "code",
   "execution_count": 46,
   "metadata": {},
   "outputs": [
    {
     "ename": "TypeError",
     "evalue": "'builtin_function_or_method' object is not subscriptable",
     "output_type": "error",
     "traceback": [
      "\u001b[1;31m---------------------------------------------------------------------------\u001b[0m",
      "\u001b[1;31mTypeError\u001b[0m                                 Traceback (most recent call last)",
      "\u001b[1;32m<ipython-input-46-fd6110b79f98>\u001b[0m in \u001b[0;36m<module>\u001b[1;34m()\u001b[0m\n\u001b[0;32m      1\u001b[0m \u001b[0moo\u001b[0m \u001b[1;33m=\u001b[0m \u001b[0mtt_distribution\u001b[0m\u001b[1;33m(\u001b[0m\u001b[0mnp\u001b[0m\u001b[1;33m.\u001b[0m\u001b[0masarray\u001b[0m\u001b[1;33m(\u001b[0m\u001b[1;33m[\u001b[0m\u001b[1;36m1\u001b[0m\u001b[1;33m,\u001b[0m\u001b[1;36m1\u001b[0m\u001b[1;33m,\u001b[0m\u001b[1;36m1\u001b[0m\u001b[1;33m,\u001b[0m\u001b[1;36m1\u001b[0m\u001b[1;33m]\u001b[0m\u001b[1;33m)\u001b[0m\u001b[1;33m,\u001b[0m \u001b[1;33m[\u001b[0m\u001b[1;36m0\u001b[0m\u001b[1;33m,\u001b[0m\u001b[1;36m1\u001b[0m\u001b[1;33m,\u001b[0m\u001b[1;36m2\u001b[0m\u001b[1;33m,\u001b[0m\u001b[1;36m3\u001b[0m\u001b[1;33m]\u001b[0m\u001b[1;33m,\u001b[0m \u001b[0mnp\u001b[0m\u001b[1;33m.\u001b[0m\u001b[0masarray\u001b[0m\u001b[1;33m(\u001b[0m\u001b[1;33m[\u001b[0m\u001b[1;36m1\u001b[0m\u001b[1;33m,\u001b[0m\u001b[1;36m1\u001b[0m\u001b[1;33m,\u001b[0m\u001b[1;36m1\u001b[0m\u001b[1;33m,\u001b[0m\u001b[1;36m1\u001b[0m\u001b[1;33m]\u001b[0m\u001b[1;33m)\u001b[0m\u001b[1;33m,\u001b[0m \u001b[1;36m1\u001b[0m\u001b[1;33m,\u001b[0m \u001b[1;36m1\u001b[0m\u001b[1;33m,\u001b[0m \u001b[1;32mlambda\u001b[0m \u001b[0mx\u001b[0m\u001b[1;33m:\u001b[0m\u001b[1;36m1\u001b[0m\u001b[1;33m,\u001b[0m \u001b[0mgrid\u001b[0m\u001b[1;33m(\u001b[0m\u001b[1;36m3\u001b[0m\u001b[1;33m)\u001b[0m\u001b[1;33m)\u001b[0m\u001b[1;33m\u001b[0m\u001b[0m\n\u001b[0;32m      2\u001b[0m \u001b[0mG_pre\u001b[0m\u001b[1;33m(\u001b[0m\u001b[0mnp\u001b[0m\u001b[1;33m.\u001b[0m\u001b[0masarray\u001b[0m\u001b[1;33m(\u001b[0m\u001b[1;33m[\u001b[0m\u001b[1;36m1\u001b[0m\u001b[1;33m,\u001b[0m\u001b[1;36m1\u001b[0m\u001b[1;33m,\u001b[0m\u001b[1;36m1\u001b[0m\u001b[1;33m,\u001b[0m\u001b[1;36m1\u001b[0m\u001b[1;33m]\u001b[0m\u001b[1;33m)\u001b[0m\u001b[1;33m,\u001b[0m \u001b[1;32mlambda\u001b[0m \u001b[0mx\u001b[0m\u001b[1;33m:\u001b[0m\u001b[1;36m1\u001b[0m\u001b[1;33m,\u001b[0m \u001b[0mgrid\u001b[0m\u001b[1;33m(\u001b[0m\u001b[1;36m4\u001b[0m\u001b[1;33m)\u001b[0m\u001b[1;33m)\u001b[0m\u001b[1;33m\u001b[0m\u001b[0m\n\u001b[1;32m----> 3\u001b[1;33m \u001b[0moo\u001b[0m\u001b[1;33m(\u001b[0m\u001b[0mnp\u001b[0m\u001b[1;33m.\u001b[0m\u001b[0marray\u001b[0m\u001b[1;33m[\u001b[0m\u001b[1;36m1\u001b[0m\u001b[1;33m,\u001b[0m\u001b[1;36m1\u001b[0m\u001b[1;33m,\u001b[0m\u001b[1;36m1\u001b[0m\u001b[1;33m]\u001b[0m\u001b[1;33m)\u001b[0m\u001b[1;33m\u001b[0m\u001b[0m\n\u001b[0m",
      "\u001b[1;31mTypeError\u001b[0m: 'builtin_function_or_method' object is not subscriptable"
     ]
    }
   ],
   "source": [
    "oo = tt_distribution(np.asarray([1,1,1,1]), [0,1,2,3], np.asarray([1,1,1,1]), 1, 1, lambda x:1, grid(3))\n",
    "G_pre(np.asarray([1,1,1,1]), lambda x:1, grid(4))\n",
    "oo(np.array[1,1,1])"
   ]
  },
  {
   "cell_type": "code",
   "execution_count": 16,
   "metadata": {},
   "outputs": [
    {
     "ename": "IndentationError",
     "evalue": "expected an indented block (<ipython-input-16-81cf750d12f9>, line 5)",
     "output_type": "error",
     "traceback": [
      "\u001b[1;36m  File \u001b[1;32m\"<ipython-input-16-81cf750d12f9>\"\u001b[1;36m, line \u001b[1;32m5\u001b[0m\n\u001b[1;33m    return g\u001b[0m\n\u001b[1;37m         ^\u001b[0m\n\u001b[1;31mIndentationError\u001b[0m\u001b[1;31m:\u001b[0m expected an indented block\n"
     ]
    }
   ],
   "source": [
    "def linear(A):\n",
    "    \n",
    "    def G(u):\n",
    "        \n",
    "    return g\n",
    "\n",
    "def tt_posterior(G, y, gamma, sigma):\n",
    "    \n",
    "    def logp(u):\n",
    "        - tt.dot((y - G(u)).T, y - G(u))/(2 * gamma ** 2) - tt.dot(u.T, u)/(2 * sigma ** 2)\n",
    "    return logp"
   ]
  },
  {
   "cell_type": "code",
   "execution_count": 47,
   "metadata": {},
   "outputs": [
    {
     "ename": "ValueError",
     "evalue": "Cannot compute test value: input 0 (x) of Op Elemwise{pow,no_inplace}(x, TensorConstant{2}) missing default value.  \nBacktrace when that variable is created:\n\n  File \"C:\\ProgramData\\Anaconda3\\lib\\site-packages\\ipykernel\\kernelbase.py\", line 235, in dispatch_shell\n    handler(stream, idents, msg)\n  File \"C:\\ProgramData\\Anaconda3\\lib\\site-packages\\ipykernel\\kernelbase.py\", line 399, in execute_request\n    user_expressions, allow_stdin)\n  File \"C:\\ProgramData\\Anaconda3\\lib\\site-packages\\ipykernel\\ipkernel.py\", line 196, in do_execute\n    res = shell.run_cell(code, store_history=store_history, silent=silent)\n  File \"C:\\ProgramData\\Anaconda3\\lib\\site-packages\\ipykernel\\zmqshell.py\", line 533, in run_cell\n    return super(ZMQInteractiveShell, self).run_cell(*args, **kwargs)\n  File \"C:\\ProgramData\\Anaconda3\\lib\\site-packages\\IPython\\core\\interactiveshell.py\", line 2698, in run_cell\n    interactivity=interactivity, compiler=compiler, result=result)\n  File \"C:\\ProgramData\\Anaconda3\\lib\\site-packages\\IPython\\core\\interactiveshell.py\", line 2802, in run_ast_nodes\n    if self.run_code(code, result):\n  File \"C:\\ProgramData\\Anaconda3\\lib\\site-packages\\IPython\\core\\interactiveshell.py\", line 2862, in run_code\n    exec(code_obj, self.user_global_ns, self.user_ns)\n  File \"<ipython-input-47-62d4c6998578>\", line 75, in <module>\n    x = T.dscalar('x')\n",
     "output_type": "error",
     "traceback": [
      "\u001b[1;31m---------------------------------------------------------------------------\u001b[0m",
      "\u001b[1;31mAttributeError\u001b[0m                            Traceback (most recent call last)",
      "\u001b[1;32mC:\\ProgramData\\Anaconda3\\lib\\site-packages\\theano\\gof\\op.py\u001b[0m in \u001b[0;36m__call__\u001b[1;34m(self, *inputs, **kwargs)\u001b[0m\n\u001b[0;32m    624\u001b[0m                 \u001b[1;32mtry\u001b[0m\u001b[1;33m:\u001b[0m\u001b[1;33m\u001b[0m\u001b[0m\n\u001b[1;32m--> 625\u001b[1;33m                     \u001b[0mstorage_map\u001b[0m\u001b[1;33m[\u001b[0m\u001b[0mins\u001b[0m\u001b[1;33m]\u001b[0m \u001b[1;33m=\u001b[0m \u001b[1;33m[\u001b[0m\u001b[0mself\u001b[0m\u001b[1;33m.\u001b[0m\u001b[0m_get_test_value\u001b[0m\u001b[1;33m(\u001b[0m\u001b[0mins\u001b[0m\u001b[1;33m)\u001b[0m\u001b[1;33m]\u001b[0m\u001b[1;33m\u001b[0m\u001b[0m\n\u001b[0m\u001b[0;32m    626\u001b[0m                     \u001b[0mcompute_map\u001b[0m\u001b[1;33m[\u001b[0m\u001b[0mins\u001b[0m\u001b[1;33m]\u001b[0m \u001b[1;33m=\u001b[0m \u001b[1;33m[\u001b[0m\u001b[1;32mTrue\u001b[0m\u001b[1;33m]\u001b[0m\u001b[1;33m\u001b[0m\u001b[0m\n",
      "\u001b[1;32mC:\\ProgramData\\Anaconda3\\lib\\site-packages\\theano\\gof\\op.py\u001b[0m in \u001b[0;36m_get_test_value\u001b[1;34m(cls, v)\u001b[0m\n\u001b[0;32m    580\u001b[0m         \u001b[0mdetailed_err_msg\u001b[0m \u001b[1;33m=\u001b[0m \u001b[0mutils\u001b[0m\u001b[1;33m.\u001b[0m\u001b[0mget_variable_trace_string\u001b[0m\u001b[1;33m(\u001b[0m\u001b[0mv\u001b[0m\u001b[1;33m)\u001b[0m\u001b[1;33m\u001b[0m\u001b[0m\n\u001b[1;32m--> 581\u001b[1;33m         \u001b[1;32mraise\u001b[0m \u001b[0mAttributeError\u001b[0m\u001b[1;33m(\u001b[0m\u001b[1;34m'%s has no test value %s'\u001b[0m \u001b[1;33m%\u001b[0m \u001b[1;33m(\u001b[0m\u001b[0mv\u001b[0m\u001b[1;33m,\u001b[0m \u001b[0mdetailed_err_msg\u001b[0m\u001b[1;33m)\u001b[0m\u001b[1;33m)\u001b[0m\u001b[1;33m\u001b[0m\u001b[0m\n\u001b[0m\u001b[0;32m    582\u001b[0m \u001b[1;33m\u001b[0m\u001b[0m\n",
      "\u001b[1;31mAttributeError\u001b[0m: x has no test value  \nBacktrace when that variable is created:\n\n  File \"C:\\ProgramData\\Anaconda3\\lib\\site-packages\\ipykernel\\kernelbase.py\", line 235, in dispatch_shell\n    handler(stream, idents, msg)\n  File \"C:\\ProgramData\\Anaconda3\\lib\\site-packages\\ipykernel\\kernelbase.py\", line 399, in execute_request\n    user_expressions, allow_stdin)\n  File \"C:\\ProgramData\\Anaconda3\\lib\\site-packages\\ipykernel\\ipkernel.py\", line 196, in do_execute\n    res = shell.run_cell(code, store_history=store_history, silent=silent)\n  File \"C:\\ProgramData\\Anaconda3\\lib\\site-packages\\ipykernel\\zmqshell.py\", line 533, in run_cell\n    return super(ZMQInteractiveShell, self).run_cell(*args, **kwargs)\n  File \"C:\\ProgramData\\Anaconda3\\lib\\site-packages\\IPython\\core\\interactiveshell.py\", line 2698, in run_cell\n    interactivity=interactivity, compiler=compiler, result=result)\n  File \"C:\\ProgramData\\Anaconda3\\lib\\site-packages\\IPython\\core\\interactiveshell.py\", line 2802, in run_ast_nodes\n    if self.run_code(code, result):\n  File \"C:\\ProgramData\\Anaconda3\\lib\\site-packages\\IPython\\core\\interactiveshell.py\", line 2862, in run_code\n    exec(code_obj, self.user_global_ns, self.user_ns)\n  File \"<ipython-input-47-62d4c6998578>\", line 75, in <module>\n    x = T.dscalar('x')\n",
      "\nDuring handling of the above exception, another exception occurred:\n",
      "\u001b[1;31mValueError\u001b[0m                                Traceback (most recent call last)",
      "\u001b[1;32m<ipython-input-47-62d4c6998578>\u001b[0m in \u001b[0;36m<module>\u001b[1;34m()\u001b[0m\n\u001b[0;32m     77\u001b[0m \u001b[0mt\u001b[0m \u001b[1;33m=\u001b[0m \u001b[0mT\u001b[0m\u001b[1;33m.\u001b[0m\u001b[0mdscalar\u001b[0m\u001b[1;33m(\u001b[0m\u001b[1;34m't'\u001b[0m\u001b[1;33m)\u001b[0m\u001b[1;33m\u001b[0m\u001b[0m\n\u001b[0;32m     78\u001b[0m \u001b[1;33m\u001b[0m\u001b[0m\n\u001b[1;32m---> 79\u001b[1;33m \u001b[0mz\u001b[0m \u001b[1;33m=\u001b[0m \u001b[1;33m(\u001b[0m\u001b[0mx\u001b[0m\u001b[1;33m**\u001b[0m\u001b[1;36m2\u001b[0m\u001b[1;33m+\u001b[0m\u001b[0my\u001b[0m\u001b[1;33m**\u001b[0m\u001b[1;36m2\u001b[0m\u001b[1;33m)\u001b[0m\u001b[1;33m*\u001b[0m\u001b[0mt\u001b[0m\u001b[1;33m\u001b[0m\u001b[0m\n\u001b[0m\u001b[0;32m     80\u001b[0m \u001b[1;33m\u001b[0m\u001b[0m\n\u001b[0;32m     81\u001b[0m \u001b[0mintZ\u001b[0m \u001b[1;33m=\u001b[0m \u001b[0mintegrateOut\u001b[0m\u001b[1;33m(\u001b[0m\u001b[0mz\u001b[0m\u001b[1;33m,\u001b[0m\u001b[0mt\u001b[0m\u001b[1;33m,\u001b[0m\u001b[1;36m0\u001b[0m\u001b[1;33m,\u001b[0m\u001b[1;36m1\u001b[0m\u001b[1;33m)\u001b[0m\u001b[1;33m(\u001b[0m\u001b[0mx\u001b[0m\u001b[1;33m,\u001b[0m\u001b[0my\u001b[0m\u001b[1;33m)\u001b[0m\u001b[1;33m\u001b[0m\u001b[0m\n",
      "\u001b[1;32mC:\\ProgramData\\Anaconda3\\lib\\site-packages\\theano\\tensor\\var.py\u001b[0m in \u001b[0;36m__pow__\u001b[1;34m(self, other)\u001b[0m\n\u001b[0;32m    175\u001b[0m         \u001b[1;31m# and the return value in that case\u001b[0m\u001b[1;33m\u001b[0m\u001b[1;33m\u001b[0m\u001b[0m\n\u001b[0;32m    176\u001b[0m         \u001b[1;32mtry\u001b[0m\u001b[1;33m:\u001b[0m\u001b[1;33m\u001b[0m\u001b[0m\n\u001b[1;32m--> 177\u001b[1;33m             \u001b[1;32mreturn\u001b[0m \u001b[0mtheano\u001b[0m\u001b[1;33m.\u001b[0m\u001b[0mtensor\u001b[0m\u001b[1;33m.\u001b[0m\u001b[0mbasic\u001b[0m\u001b[1;33m.\u001b[0m\u001b[0mpow\u001b[0m\u001b[1;33m(\u001b[0m\u001b[0mself\u001b[0m\u001b[1;33m,\u001b[0m \u001b[0mother\u001b[0m\u001b[1;33m)\u001b[0m\u001b[1;33m\u001b[0m\u001b[0m\n\u001b[0m\u001b[0;32m    178\u001b[0m         \u001b[1;32mexcept\u001b[0m \u001b[1;33m(\u001b[0m\u001b[0mNotImplementedError\u001b[0m\u001b[1;33m,\u001b[0m \u001b[0mAsTensorError\u001b[0m\u001b[1;33m)\u001b[0m\u001b[1;33m:\u001b[0m\u001b[1;33m\u001b[0m\u001b[0m\n\u001b[0;32m    179\u001b[0m             \u001b[1;32mreturn\u001b[0m \u001b[0mNotImplemented\u001b[0m\u001b[1;33m\u001b[0m\u001b[0m\n",
      "\u001b[1;32mC:\\ProgramData\\Anaconda3\\lib\\site-packages\\theano\\gof\\op.py\u001b[0m in \u001b[0;36m__call__\u001b[1;34m(self, *inputs, **kwargs)\u001b[0m\n\u001b[0;32m    637\u001b[0m                         raise ValueError(\n\u001b[0;32m    638\u001b[0m                             \u001b[1;34m'Cannot compute test value: input %i (%s) of Op %s missing default value. %s'\u001b[0m \u001b[1;33m%\u001b[0m\u001b[1;33m\u001b[0m\u001b[0m\n\u001b[1;32m--> 639\u001b[1;33m                             (i, ins, node, detailed_err_msg))\n\u001b[0m\u001b[0;32m    640\u001b[0m                     \u001b[1;32melif\u001b[0m \u001b[0mconfig\u001b[0m\u001b[1;33m.\u001b[0m\u001b[0mcompute_test_value\u001b[0m \u001b[1;33m==\u001b[0m \u001b[1;34m'ignore'\u001b[0m\u001b[1;33m:\u001b[0m\u001b[1;33m\u001b[0m\u001b[0m\n\u001b[0;32m    641\u001b[0m                         \u001b[1;31m# silently skip test\u001b[0m\u001b[1;33m\u001b[0m\u001b[1;33m\u001b[0m\u001b[0m\n",
      "\u001b[1;31mValueError\u001b[0m: Cannot compute test value: input 0 (x) of Op Elemwise{pow,no_inplace}(x, TensorConstant{2}) missing default value.  \nBacktrace when that variable is created:\n\n  File \"C:\\ProgramData\\Anaconda3\\lib\\site-packages\\ipykernel\\kernelbase.py\", line 235, in dispatch_shell\n    handler(stream, idents, msg)\n  File \"C:\\ProgramData\\Anaconda3\\lib\\site-packages\\ipykernel\\kernelbase.py\", line 399, in execute_request\n    user_expressions, allow_stdin)\n  File \"C:\\ProgramData\\Anaconda3\\lib\\site-packages\\ipykernel\\ipkernel.py\", line 196, in do_execute\n    res = shell.run_cell(code, store_history=store_history, silent=silent)\n  File \"C:\\ProgramData\\Anaconda3\\lib\\site-packages\\ipykernel\\zmqshell.py\", line 533, in run_cell\n    return super(ZMQInteractiveShell, self).run_cell(*args, **kwargs)\n  File \"C:\\ProgramData\\Anaconda3\\lib\\site-packages\\IPython\\core\\interactiveshell.py\", line 2698, in run_cell\n    interactivity=interactivity, compiler=compiler, result=result)\n  File \"C:\\ProgramData\\Anaconda3\\lib\\site-packages\\IPython\\core\\interactiveshell.py\", line 2802, in run_ast_nodes\n    if self.run_code(code, result):\n  File \"C:\\ProgramData\\Anaconda3\\lib\\site-packages\\IPython\\core\\interactiveshell.py\", line 2862, in run_code\n    exec(code_obj, self.user_global_ns, self.user_ns)\n  File \"<ipython-input-47-62d4c6998578>\", line 75, in <module>\n    x = T.dscalar('x')\n"
     ]
    }
   ],
   "source": [
    "# https://stackoverflow.com/questions/42678490/custom-theano-op-to-do-numerical-integration?utm_medium=organic&utm_source=google_rich_qa&utm_campaign=google_rich_qa\n",
    "\n",
    "import theano\n",
    "import theano.tensor as T\n",
    "from scipy.integrate import quad\n",
    "\n",
    "class integrateOut(theano.Op):\n",
    "    \"\"\"\n",
    "    Integrate out a variable from an expression, computing\n",
    "    the definite integral w.r.t. the variable specified\n",
    "    !!! Only implemented in this for scalars !!!\n",
    "\n",
    "\n",
    "    Parameters\n",
    "    ----------\n",
    "    f : scalar\n",
    "        input 'function' to integrate\n",
    "    t : scalar\n",
    "        the variable to integrate out\n",
    "    t0: float\n",
    "        lower integration limit\n",
    "    tf: float\n",
    "        upper integration limit\n",
    "\n",
    "    Returns\n",
    "    -------\n",
    "    scalar\n",
    "        a new scalar with the 't' integrated out\n",
    "\n",
    "    Notes\n",
    "    -----\n",
    "\n",
    "    usage of this looks like:\n",
    "    x = T.dscalar('x')\n",
    "    y = T.dscalar('y')\n",
    "    t = T.dscalar('t')\n",
    "\n",
    "    z = (x**2 + y**2)*t\n",
    "\n",
    "    # integrate z w.r.t. t as a function of (x,y)\n",
    "    intZ = integrateOut(z,t,0.0,5.0)(x,y)\n",
    "    gradIntZ = T.grad(intZ,[x,y])\n",
    "\n",
    "    funcIntZ = theano.function([x,y],intZ)\n",
    "    funcGradIntZ = theano.function([x,y],gradIntZ)\n",
    "\n",
    "    \"\"\"\n",
    "    def __init__(self,f,t,t0,tf,*args,**kwargs):\n",
    "        super(integrateOut,self).__init__()\n",
    "        self.f = f\n",
    "        self.t = t\n",
    "        self.t0 = t0\n",
    "        self.tf = tf\n",
    "\n",
    "    def make_node(self,*inputs):\n",
    "        self.fvars=list(inputs)\n",
    "        # This will fail when taking the gradient... don't be concerned\n",
    "        try:\n",
    "            self.gradF = T.grad(self.f,self.fvars)\n",
    "        except:\n",
    "            self.gradF = None\n",
    "        return theano.Apply(self,self.fvars,[T.dscalar().type()])\n",
    "\n",
    "    def perform(self,node, inputs, output_storage):\n",
    "        # Everything else is an argument to the quad function\n",
    "        args = tuple(inputs)\n",
    "        # create a function to evaluate the integral\n",
    "        f = theano.function([self.t]+self.fvars,self.f)\n",
    "        # actually compute the integral\n",
    "        output_storage[0][0] = quad(f,self.t0,self.tf,args=args)[0]\n",
    "\n",
    "    def grad(self,inputs,grads):\n",
    "        return [integrateOut(g,self.t,self.t0,self.tf)(*inputs)*grads[0] \\\n",
    "            for g in self.gradF]\n",
    "\n",
    "x = T.dscalar('x')\n",
    "y = T.dscalar('y')\n",
    "t = T.dscalar('t')\n",
    "\n",
    "z = (x**2+y**2)*t\n",
    "\n",
    "intZ = integrateOut(z,t,0,1)(x,y)\n",
    "gradIntZ = T.grad(intZ,[x,y])\n",
    "funcIntZ = theano.function([x,y],intZ)\n",
    "funcGradIntZ = theano.function([x,y],gradIntZ)\n",
    "print(funcIntZ(2,2))\n",
    "print(funcGradIntZ(2,2))"
   ]
  },
  {
   "cell_type": "code",
   "execution_count": null,
   "metadata": {
    "collapsed": true
   },
   "outputs": [],
   "source": [
    "def tt_banana_pdf(mean, cov, warp):\n",
    "    mean = np.asarray(mean)\n",
    "    cov = np.asarray(cov)\n",
    "    dim = mean.shape[0]\n",
    "    \n",
    "    constant = -np.log((2*np.pi)**dim * np.linalg.det(cov))/2\n",
    "    covinv = np.linalg.inv(cov)\n",
    "    \n",
    "    def logp(x):\n",
    "        distortion = np.ones(dim) * warp * x[0]**2\n",
    "        tt.set_subtensor(distortion[0], 0)\n",
    "        return constant - tt.dot(tt.dot((x + distortion - mean).T, covinv), (x + distortion - mean))/2\n",
    "    return logp\n",
    "\n",
    "@sampled\n",
    "def banana(mean=[0,0], cov=[[1,0],[0,1]], warp=0.9, **observed):\n",
    "    mean = np.asarray(mean)\n",
    "    cov = np.asarray(cov)\n",
    "    dim = mean.shape[0]\n",
    "    testval = np.zeros(dim)\n",
    "    pm.DensityDist('banana', logp=tt_banana_pdf(mean, cov, warp), shape=dim, testval=testval)"
   ]
  },
  {
   "cell_type": "code",
   "execution_count": null,
   "metadata": {
    "collapsed": true
   },
   "outputs": [],
   "source": [
    "dim = 2\n",
    "mean = np.zeros(dim)\n",
    "cov = np.eye(dim)/dim\n",
    "warp = 0.5\n",
    "\n",
    "starting_point = np.zeros(dim)\n",
    "\n",
    "with banana(mean=mean, cov=cov, warp=warp):\n",
    "    step = pm.Metropolis()\n",
    "    step = pm.NUTS()\n",
    "    metropolis_sample = pm.sample(draws=1000, step=step, \n",
    "                                  start={'banana': starting_point}, \n",
    "                                  tune=500, discard_tuned_samples=True)"
   ]
  }
 ],
 "metadata": {
  "kernelspec": {
   "display_name": "Python 3",
   "language": "python",
   "name": "python3"
  },
  "language_info": {
   "codemirror_mode": {
    "name": "ipython",
    "version": 3
   },
   "file_extension": ".py",
   "mimetype": "text/x-python",
   "name": "python",
   "nbconvert_exporter": "python",
   "pygments_lexer": "ipython3",
   "version": "3.6.3"
  }
 },
 "nbformat": 4,
 "nbformat_minor": 2
}
