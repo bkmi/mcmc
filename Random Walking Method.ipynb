{
 "cells": [
  {
   "cell_type": "code",
   "execution_count": 1,
   "metadata": {},
   "outputs": [
    {
     "ename": "NameError",
     "evalue": "name 'matplotlib' is not defined",
     "output_type": "error",
     "traceback": [
      "\u001b[1;31m---------------------------------------------------------------------------\u001b[0m",
      "\u001b[1;31mNameError\u001b[0m                                 Traceback (most recent call last)",
      "\u001b[1;32m<ipython-input-1-e28d8eb00efa>\u001b[0m in \u001b[0;36m<module>\u001b[1;34m()\u001b[0m\n\u001b[0;32m      4\u001b[0m \u001b[1;32mimport\u001b[0m \u001b[0mscipy\u001b[0m\u001b[1;33m.\u001b[0m\u001b[0msignal\u001b[0m\u001b[1;33m\u001b[0m\u001b[0m\n\u001b[0;32m      5\u001b[0m \u001b[1;32mimport\u001b[0m \u001b[0mmatplotlib\u001b[0m\u001b[1;33m.\u001b[0m\u001b[0mpyplot\u001b[0m \u001b[1;32mas\u001b[0m \u001b[0mplt\u001b[0m\u001b[1;33m\u001b[0m\u001b[0m\n\u001b[1;32m----> 6\u001b[1;33m \u001b[0mmatplotlib\u001b[0m\u001b[1;33m.\u001b[0m\u001b[0mrcParams\u001b[0m\u001b[1;33m[\u001b[0m\u001b[1;34m'figure.figsize'\u001b[0m\u001b[1;33m]\u001b[0m \u001b[1;33m=\u001b[0m \u001b[1;33m[\u001b[0m\u001b[1;36m6.0\u001b[0m\u001b[1;33m,\u001b[0m \u001b[1;36m6.0\u001b[0m\u001b[1;33m]\u001b[0m\u001b[1;33m\u001b[0m\u001b[0m\n\u001b[0m",
      "\u001b[1;31mNameError\u001b[0m: name 'matplotlib' is not defined"
     ]
    }
   ],
   "source": [
    "import numpy as np\n",
    "import pandas as pd\n",
    "import scipy.stats\n",
    "import scipy.signal\n",
    "import matplotlib.pyplot as plt\n",
    "matplotlib.rcParams['figure.figsize'] = [6.0, 6.0]"
   ]
  },
  {
   "cell_type": "markdown",
   "metadata": {},
   "source": [
    "# General Setup\n",
    "\n",
    "We have a target distribution and we will try to sample from it using Metropolis MCMC with various proposal distributions.\n",
    "\n",
    "Some useful links were found here:  \n",
    "https://theclevermachine.wordpress.com/2012/11/19/a-gentle-introduction-to-markov-chain-monte-carlo-mcmc/  \n",
    "https://www.cs.cmu.edu/~epxing/Class/10708-14/scribe_notes/scribe_note_lecture27.pdf  "
   ]
  },
  {
   "cell_type": "code",
   "execution_count": null,
   "metadata": {},
   "outputs": [],
   "source": [
    "# Target Distribution (Stationary Distribution of the Markov Chain)\n",
    "# Stretched Normal Distribution in 2D\n",
    "mean = [0, 0]\n",
    "cov = [[1, 0], [0, 100]]\n",
    "\n",
    "target_dist = scipy.stats.multivariate_normal(mean, cov)\n",
    "data = target_dist.rvs(1000)\n",
    "df = pd.DataFrame(data, columns=[\"x\", \"y\"])\n",
    "plt.plot(df.x, df.y, 'o')\n",
    "plt.axis('equal')\n",
    "plt.show()"
   ]
  },
  {
   "cell_type": "code",
   "execution_count": null,
   "metadata": {
    "collapsed": true
   },
   "outputs": [],
   "source": [
    "# Random Walk MCMC Function\n",
    "def metropolis_step(state, proposal_dist, target_logpdf):\n",
    "    proposal_dist = proposal_dist(state)\n",
    "#     proposal_dist = scipy.stats.multivariate_normal(state, [[0.5, 0], [0, 0.5]])\n",
    "    proposed_state = proposal_dist.rvs(1)\n",
    "    \n",
    "    acceptance_prob = min([0, target_dist.logpdf(proposed_state) - target_dist.logpdf(state)])\n",
    "    \n",
    "    if np.log(np.random.rand()) < acceptance_prob:\n",
    "        return proposed_state\n",
    "    else:\n",
    "        return state\n",
    "    \n",
    "# Acceptance rate at every step\n",
    "def acceptance_rate_per_step(states):\n",
    "    transitions = len(states)\n",
    "    compared_states = np.isclose(np.asarray(states), np.roll(np.asarray(states), 1, axis=0))\n",
    "    acceptance_rate_per_step = np.asarray([np.sum(compared_states[:i,:])/compared_states[:i,:].shape[0] for \n",
    "                                i in range(1, compared_states.shape[0] + 1)])\n",
    "    return acceptance_rate_per_step "
   ]
  },
  {
   "cell_type": "markdown",
   "metadata": {},
   "source": [
    "## Normal, $\\sigma$ = 0.5\n",
    "\n",
    "We procede with a proposal distribtuion which is normal and has a covarience of 0.5 times the identity matrix."
   ]
  },
  {
   "cell_type": "code",
   "execution_count": null,
   "metadata": {
    "collapsed": true
   },
   "outputs": [],
   "source": [
    "# Proposal distribution\n",
    "def proposal_dist_normal_2d(state, covar=[[0.5, 0], [0, 0.5]]):\n",
    "    return scipy.stats.multivariate_normal(state, covar)"
   ]
  },
  {
   "cell_type": "code",
   "execution_count": null,
   "metadata": {},
   "outputs": [],
   "source": [
    "# \"Random Walk\" Proposal Distribution Centered at previous state\n",
    "# Normal Distribution in 2D\n",
    "\n",
    "mean = [0, 0]\n",
    "cov = [[0.5, 0], [0, 0.5]]\n",
    "\n",
    "proposal_dist = scipy.stats.multivariate_normal(mean, cov)\n",
    "data = proposal_dist.rvs(1000)\n",
    "df = pd.DataFrame(data, columns=[\"x\", \"y\"])\n",
    "plt.plot(df.x, df.y, 'o')\n",
    "plt.axis('equal')\n",
    "plt.show()"
   ]
  },
  {
   "cell_type": "code",
   "execution_count": null,
   "metadata": {
    "collapsed": true
   },
   "outputs": [],
   "source": [
    "# MCMC Execution\n",
    "states = [np.array([0,0])]\n",
    "steps = 10000\n",
    "\n",
    "for i in range(steps):\n",
    "    states.append(metropolis_step(states[-1], proposal_dist_normal_2d, target_dist.logpdf))\n",
    "    \n",
    "states = np.asarray(states)"
   ]
  },
  {
   "cell_type": "code",
   "execution_count": null,
   "metadata": {},
   "outputs": [],
   "source": [
    "# Acceptance rate plot\n",
    "acps = acceptance_rate_per_step(states)\n",
    "plt.figure(figsize=(8, 4))\n",
    "plt.plot(range(steps + 1), acps)\n",
    "plt.xlabel('Steps')\n",
    "plt.ylabel('Acceptance Rate')\n",
    "plt.show()"
   ]
  },
  {
   "cell_type": "code",
   "execution_count": null,
   "metadata": {},
   "outputs": [],
   "source": [
    "# Sample and trace plots\n",
    "df = pd.DataFrame(states, columns=[\"x\", \"y\"])\n",
    "\n",
    "plt.figure(1, figsize=(8,8))\n",
    "plt.subplot(121)\n",
    "plt.scatter(df.x, df.y, c=target_dist.logpdf(states))\n",
    "plt.axis('equal')\n",
    "plt.title('Samples plot')\n",
    "plt.xlabel('x')\n",
    "plt.ylabel('y')\n",
    "\n",
    "plt.subplot(222)\n",
    "plt.plot(np.arange(states.shape[0]),df.x)\n",
    "plt.title('Trace plot')\n",
    "plt.xlabel('Steps')\n",
    "plt.ylabel('x')\n",
    "\n",
    "plt.subplot(224)\n",
    "plt.scatter(np.arange(states.shape[0]),df.y)\n",
    "plt.xlabel('Steps')\n",
    "plt.ylabel('y')\n",
    "\n",
    "plt.show()"
   ]
  },
  {
   "cell_type": "code",
   "execution_count": null,
   "metadata": {},
   "outputs": [],
   "source": [
    "# All lags autocorrelation\n",
    "autocorx = scipy.signal.correlate(states[:,0], states[:,0])\n",
    "autocory = scipy.signal.correlate(states[:,1], states[:,1])\n",
    "\n",
    "fig, (ax_autox, ax_autoy) = plt.subplots(2, 1, sharex=True, figsize=(7,7))\n",
    "\n",
    "ax_autox.plot(range(-int(autocorx.size/2), int(autocorx.size/2) + 1), autocorx)\n",
    "ax_autox.set_ylim(-1000,1000)\n",
    "ax_autox.set_title('x')\n",
    "ax_autox.set_ylabel('Autocorrelation')\n",
    "\n",
    "ax_autoy.plot(range(-int(autocory.size/2), int(autocory.size/2) + 1), autocory)\n",
    "# ax_autoy.set_ylim(-1000,1000)\n",
    "ax_autoy.set_title('y')\n",
    "ax_autoy.set_ylabel('Autocorrelation')\n",
    "ax_autoy.set_xlabel('Lag')\n",
    "plt.show()"
   ]
  },
  {
   "cell_type": "code",
   "execution_count": null,
   "metadata": {},
   "outputs": [],
   "source": [
    "# Autocorrlation as a function of steps\n",
    "def autocor_lagk_steps_1d(states, lag):\n",
    "    autocor_lagk = []\n",
    "    for i in range(len(states)):\n",
    "        if i < lag:\n",
    "            autocor_lagk.append(0)\n",
    "        else:\n",
    "            autocor = scipy.signal.correlate(states[:i], states[i:])\n",
    "            autocor_lagk.append(autocor[int(len(autocor)/2) + lag])\n",
    "    return np.asarray(autocor_lagk)\n",
    "\n",
    "lag = 5\n",
    "acx = autocor_lagk_steps_1d(states[:,0], lag)\n",
    "acy = autocor_lagk_steps_1d(states[:,1], lag)"
   ]
  },
  {
   "cell_type": "code",
   "execution_count": null,
   "metadata": {
    "collapsed": true
   },
   "outputs": [],
   "source": [
    "# autocorrelation by steps plot\n",
    "fig, (ax_autox, ax_autoy) = plt.subplots(2, 1, sharex=True, figsize=(7,7))\n",
    "\n",
    "ax_autox.plot(range(len(states)), acx)\n",
    "ax_autox.set_title('x')\n",
    "ax_autox.set_ylabel('Autocorrelation')\n",
    "\n",
    "ax_autoy.plot(range(len(states)), acy)\n",
    "ax_autoy.set_title('y')\n",
    "ax_autoy.set_ylabel('Autocorrelation')\n",
    "ax_autoy.set_xlabel('Steps')\n",
    "\n",
    "plt.show()"
   ]
  }
 ],
 "metadata": {
  "kernelspec": {
   "display_name": "Python 3",
   "language": "python",
   "name": "python3"
  },
  "language_info": {
   "codemirror_mode": {
    "name": "ipython",
    "version": 3
   },
   "file_extension": ".py",
   "mimetype": "text/x-python",
   "name": "python",
   "nbconvert_exporter": "python",
   "pygments_lexer": "ipython3",
   "version": "3.6.1"
  }
 },
 "nbformat": 4,
 "nbformat_minor": 2
}
