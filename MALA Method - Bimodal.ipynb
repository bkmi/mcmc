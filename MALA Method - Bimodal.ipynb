{
 "cells": [
  {
   "cell_type": "code",
   "execution_count": null,
   "metadata": {
    "collapsed": true
   },
   "outputs": [],
   "source": [
    "import numpy as np\n",
    "import pandas as pd\n",
    "import scipy.stats\n",
    "import matplotlib.pyplot as plt\n",
    "import distributions as dist"
   ]
  },
  {
   "cell_type": "markdown",
   "metadata": {},
   "source": [
    "# General Setup\n",
    "\n",
    "We have a target distribution and we will try to sample from it using Metropolis-Hastings MCMC with MALA proposal technqiues using various proposal distributions.\n",
    "\n",
    "Some useful links were found here:  \n",
    "https://en.wikipedia.org/wiki/Metropolis-adjusted_Langevin_algorithm  \n",
    "http://www.mcmchandbook.net/HandbookChapter1.pdf  \n",
    "https://theclevermachine.wordpress.com/2012/11/19/a-gentle-introduction-to-markov-chain-monte-carlo-mcmc/  "
   ]
  },
  {
   "cell_type": "code",
   "execution_count": null,
   "metadata": {},
   "outputs": [],
   "source": [
    "mean1 = [2, 0]\n",
    "cov1 = [[1, 0], [0, 1]]\n",
    "\n",
    "mean2 = [-2, 0]\n",
    "cov2 = [[1, 0], [0, 1]]\n",
    "\n",
    "rv = dist.bimodal_dist(mean1, mean2, cov1, cov2)\n",
    "\n",
    "# Samples\n",
    "fig1 = plt.figure()\n",
    "ax1 = fig1.add_subplot(111)\n",
    "ax1.plot(*rv.rvs(1000).T, 'o')\n",
    "ax1.axis('equal')\n",
    "plt.show()\n",
    "\n",
    "x, y = np.mgrid[-10:10:.1,\n",
    "                -10:10:.1]\n",
    "pos = np.dstack((x, y))\n",
    "\n",
    "# pdf\n",
    "fig2 = plt.figure()\n",
    "ax2 = fig2.add_subplot(111)\n",
    "ax2.contourf(x, y, rv.pdf(pos))\n",
    "plt.show()\n",
    "\n",
    "# logpdf\n",
    "fig3 = plt.figure()\n",
    "ax3 = fig3.add_subplot(111)\n",
    "ax3.contourf(x, y, rv.logpdf(pos))\n",
    "plt.show()"
   ]
  },
  {
   "cell_type": "code",
   "execution_count": null,
   "metadata": {},
   "outputs": [],
   "source": [
    "# magnitude of gradpdf\n",
    "fig2 = plt.figure()\n",
    "ax2 = fig2.add_subplot(111)\n",
    "ax2.contourf(x, y, np.linalg.norm(rv.grad_pdf(pos), axis=0))\n",
    "plt.show()\n",
    "\n",
    "# magnitude of grad log pdf\n",
    "fig2 = plt.figure()\n",
    "ax2 = fig2.add_subplot(111)\n",
    "ax2.contourf(x, y, np.linalg.norm(rv.grad_logpdf(pos), axis=0))\n",
    "plt.show()"
   ]
  },
  {
   "cell_type": "code",
   "execution_count": null,
   "metadata": {
    "collapsed": true
   },
   "outputs": [],
   "source": [
    "# Acceptance rate at every step\n",
    "def acceptance_rate_per_step(states):\n",
    "    states = np.asarray(states)\n",
    "    steps = 0\n",
    "    accepted = 0\n",
    "    acc_rate = []\n",
    "    for i in range(1,len(states)):\n",
    "        steps += 1\n",
    "        if (np.isclose(states[i,0], states[i-1,0], rtol=1e-10, atol=1e-15) and \n",
    "            np.isclose(states[i,1], states[i-1,1], rtol=1e-10, atol=1e-15)):\n",
    "            accepted += 1\n",
    "        acc_rate.append(accepted/steps)\n",
    "    return acc_rate"
   ]
  },
  {
   "cell_type": "markdown",
   "metadata": {},
   "source": [
    "## MALA Proposal\n",
    "\n",
    "We propose by suggesting the state plus the gradient of the target distribution at the state plus a small random motion.\n",
    "\n",
    "Note, for reference, the derivate with respect to the state of our target distribution is given by:\n",
    "\\begin{equation}\n",
    "    \\frac{\\partial \\pi(\\mathbf{x})}{\\partial\\mathbf{x}}=-\\frac{1}{\\sqrt{det(2\\pi\\mathbf{\\Sigma})}}exp\\left[-\\frac{1}{2}(\\mathbf{x}-\\mathbf{m})^{T}\\mathbf{\\Sigma}^{-1}(\\mathbf{x}-\\mathbf{m})\\right]\\mathbf{\\Sigma}^{-1}(\\mathbf{x}-\\mathbf{m})\n",
    "\\end{equation}\n",
    "\n",
    "However, this is a bit irrelevant since I am looking for the gradient at the state. I.e. $\\nabla\\pi(\\textbf{x})$ I will do it numerically."
   ]
  },
  {
   "cell_type": "code",
   "execution_count": null,
   "metadata": {},
   "outputs": [],
   "source": [
    "def conditional_prob(from_state, to_state, distribution, tau=1):\n",
    "    to_state = np.asarray(to_state)\n",
    "    from_state = np.asarray(from_state)\n",
    "    return np.exp((-4 * tau)**(-1) * \n",
    "                  np.linalg.norm(to_state - from_state - tau * \n",
    "                                 distribution.grad_logpdf(from_state))**2)\n",
    "\n",
    "\n",
    "def mala_step(state, distribution, tau=1):\n",
    "    state = np.asarray(state)\n",
    "    proposed_state = (state + \n",
    "                      tau * distribution.grad_logpdf(state) + \n",
    "                      np.sqrt(2 * tau) * scipy.stats.multivariate_normal([0,0], np.eye(2)).rvs(1))\n",
    "    \n",
    "    alpha = (distribution.pdf(proposed_state) * conditional_prob(proposed_state, state, distribution)/\n",
    "             (distribution.pdf(state) * conditional_prob(state, proposed_state, distribution)))\n",
    "    acceptance_prob = min([1, alpha])\n",
    "    \n",
    "    if np.random.rand() < acceptance_prob:\n",
    "        return proposed_state\n",
    "    else:\n",
    "        return state"
   ]
  },
  {
   "cell_type": "code",
   "execution_count": null,
   "metadata": {},
   "outputs": [],
   "source": [
    "# MCMC Execution\n",
    "states = [np.array([0,0])]\n",
    "steps = 5000\n",
    "\n",
    "for i in range(steps):\n",
    "    states.append(mala_step(states[-1], rv))\n",
    "#     states.append(metropolis_step(states[-1], proposal_mala, rv.logpdf, rv.grad_logpdf, cond_prob_mala))\n",
    "    \n",
    "states = np.asarray(states)"
   ]
  },
  {
   "cell_type": "code",
   "execution_count": null,
   "metadata": {},
   "outputs": [],
   "source": [
    "# Acceptance rate plot\n",
    "acps = acceptance_rate_per_step(states)\n",
    "plt.figure(figsize=(8, 4))\n",
    "plt.plot(range(steps), acps)\n",
    "plt.xlabel('Steps')\n",
    "plt.ylabel('Acceptance Rate')\n",
    "plt.show()"
   ]
  },
  {
   "cell_type": "code",
   "execution_count": null,
   "metadata": {},
   "outputs": [],
   "source": [
    "# Sample and trace plots\n",
    "df = pd.DataFrame(states, columns=[\"x\", \"y\"])\n",
    "\n",
    "plt.figure(1, figsize=(8,8))\n",
    "plt.subplot(121)\n",
    "plt.scatter(df.x, df.y, c=rv.logpdf(states))\n",
    "plt.axis('equal')\n",
    "plt.title('Samples plot')\n",
    "plt.xlabel('x')\n",
    "plt.ylabel('y')\n",
    "\n",
    "plt.subplot(222)\n",
    "plt.plot(np.arange(states.shape[0]), df.x)\n",
    "plt.title('Trace plot')\n",
    "plt.xlabel('Steps')\n",
    "plt.ylabel('x')\n",
    "\n",
    "plt.subplot(224)\n",
    "plt.plot(np.arange(states.shape[0]), df.y)\n",
    "plt.xlabel('Steps')\n",
    "plt.ylabel('y')\n",
    "\n",
    "plt.show()"
   ]
  },
  {
   "cell_type": "code",
   "execution_count": null,
   "metadata": {
    "collapsed": true
   },
   "outputs": [],
   "source": []
  }
 ],
 "metadata": {
  "kernelspec": {
   "display_name": "Python 3",
   "language": "python",
   "name": "python3"
  },
  "language_info": {
   "codemirror_mode": {
    "name": "ipython",
    "version": 3
   },
   "file_extension": ".py",
   "mimetype": "text/x-python",
   "name": "python",
   "nbconvert_exporter": "python",
   "pygments_lexer": "ipython3",
   "version": "3.6.1"
  }
 },
 "nbformat": 4,
 "nbformat_minor": 2
}
