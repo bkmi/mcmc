{
 "cells": [
  {
   "cell_type": "code",
   "execution_count": null,
   "metadata": {
    "collapsed": true
   },
   "outputs": [],
   "source": [
    "import numpy as np\n",
    "import pandas as pd\n",
    "import matplotlib.pyplot as plt\n",
    "import seaborn as sns\n",
    "sns.set(color_codes=True)"
   ]
  },
  {
   "cell_type": "code",
   "execution_count": null,
   "metadata": {},
   "outputs": [],
   "source": [
    "#1D case\n",
    "mean = [0]\n",
    "cov = [[1]]\n",
    "\n",
    "x = np.random.multivariate_normal(mean, cov, 1000)\n",
    "plt.hist(x, bins=50)\n",
    "plt.show()"
   ]
  },
  {
   "cell_type": "code",
   "execution_count": null,
   "metadata": {},
   "outputs": [],
   "source": [
    "#2D case\n",
    "mean = [0, 0]\n",
    "cov = [[1, 0], [0, 100]]\n",
    "\n",
    "x, y = np.random.multivariate_normal(mean, cov, 1000).T\n",
    "plt.plot(x, y, 'o')\n",
    "plt.axis('equal')\n",
    "plt.show()"
   ]
  },
  {
   "cell_type": "code",
   "execution_count": null,
   "metadata": {},
   "outputs": [],
   "source": [
    "mean, cov = [0, 1], [(1, 0), (0, 10)]\n",
    "data = np.random.multivariate_normal(mean, cov, 1000)\n",
    "df = pd.DataFrame(data, columns=[\"x\", \"y\"])\n",
    "sns.jointplot(x=\"x\", y=\"y\", data=df);\n",
    "plt.show()"
   ]
  },
  {
   "cell_type": "code",
   "execution_count": null,
   "metadata": {},
   "outputs": [],
   "source": [
    "#2D warped case\n",
    "mean = [0, 0]\n",
    "cov = [[1, 0], [0, 100]]\n",
    "\n",
    "x, y = np.random.multivariate_normal(mean, cov, 1000).T\n",
    "\n",
    "def warp(x,y):\n",
    "    return x+.05*y**2, y\n",
    "\n",
    "x, y = warp(x, y)\n",
    "\n",
    "plt.plot(x, y, 'o')\n",
    "plt.axis('equal')\n",
    "plt.show()"
   ]
  },
  {
   "cell_type": "code",
   "execution_count": null,
   "metadata": {},
   "outputs": [],
   "source": [
    "#bimodal case\n",
    "def bimodal_normal(mean1, mean2, cov1, cov2, weight, samples):\n",
    "    data1 = np.random.multivariate_normal(mean1, cov1, round(w*samples))\n",
    "    data2 = np.random.multivariate_normal(mean2, cov2, round(abs(1-w)*samples))\n",
    "    return np.concatenate((data1, data2), axis=0)\n",
    "\n",
    "mean1, cov1 = [10, 0], [(1, 0.5), (0, 1)]\n",
    "mean2, cov2 = [-10, 0], [(1, 0), (0, .8)]\n",
    "data = bimodal_normal(mean1, mean2, cov1, cov2, 0.5, 1000)\n",
    "\n",
    "df = pd.DataFrame(data, columns=[\"x\", \"y\"])\n",
    "sns.jointplot(x=\"x\", y=\"y\", data=df);\n",
    "plt.show()\n"
   ]
  },
  {
   "cell_type": "code",
   "execution_count": null,
   "metadata": {
    "collapsed": true
   },
   "outputs": [],
   "source": []
  }
 ],
 "metadata": {
  "kernelspec": {
   "display_name": "Python 3",
   "language": "python",
   "name": "python3"
  },
  "language_info": {
   "codemirror_mode": {
    "name": "ipython",
    "version": 3
   },
   "file_extension": ".py",
   "mimetype": "text/x-python",
   "name": "python",
   "nbconvert_exporter": "python",
   "pygments_lexer": "ipython3",
   "version": "3.6.1"
  }
 },
 "nbformat": 4,
 "nbformat_minor": 2
}
