{
 "cells": [
  {
   "cell_type": "code",
   "execution_count": null,
   "metadata": {
    "collapsed": true
   },
   "outputs": [],
   "source": [
    "import numpy as np\n",
    "import pandas as pd\n",
    "import matplotlib.pyplot as plt\n",
    "import seaborn as sns\n",
    "import distributions as dist\n",
    "sns.set(color_codes=True)"
   ]
  },
  {
   "cell_type": "code",
   "execution_count": null,
   "metadata": {},
   "outputs": [],
   "source": [
    "# Normal distribution in 1D\n",
    "mean = [0]\n",
    "cov = [[1]]\n",
    "\n",
    "x = np.random.multivariate_normal(mean, cov, 1000)\n",
    "plt.hist(x, bins=50)\n",
    "plt.show()"
   ]
  },
  {
   "cell_type": "code",
   "execution_count": null,
   "metadata": {},
   "outputs": [],
   "source": [
    "# Stretched Normal Distribution in 2D\n",
    "mean = [0, 0]\n",
    "cov = [[1, 0], [0, 100]]\n",
    "\n",
    "data = np.random.multivariate_normal(mean, cov, 1000)\n",
    "df = pd.DataFrame(data, columns=[\"x\", \"y\"])\n",
    "plt.plot(df.x, df.y, 'o')\n",
    "plt.axis('equal')\n",
    "plt.show()\n",
    "\n",
    "sns.jointplot(x=\"x\", y=\"y\", data=df);\n",
    "plt.show()"
   ]
  },
  {
   "cell_type": "code",
   "execution_count": null,
   "metadata": {},
   "outputs": [],
   "source": [
    "# Parabolically Warped Normal Distribution in 2D\n",
    "mean = [0, 0]\n",
    "cov = [[1, 0], [0, 100]]\n",
    "\n",
    "data = dist.warped_normal_2d(mean, cov, 1000)\n",
    "print(data.shape)\n",
    "df = pd.DataFrame(data, columns=[\"x\", \"y\"])\n",
    "\n",
    "plt.plot(df.x, df.y, 'o')\n",
    "plt.axis('equal')\n",
    "plt.show()"
   ]
  },
  {
   "cell_type": "code",
   "execution_count": null,
   "metadata": {},
   "outputs": [],
   "source": [
    "# Bimodal normal distribution in 2D\n",
    "means = [[5, 0], [-5, 0]]\n",
    "covs = [[(1, 0.5), (0, 1)], [(1, 0), (0, 1)]]\n",
    "\n",
    "data = dist.bimodal_normal_2d(means, covs, 0.75, 1000)\n",
    "\n",
    "df = pd.DataFrame(data, columns=[\"x\", \"y\"])\n",
    "sns.jointplot(x=\"x\", y=\"y\", data=df);\n",
    "plt.show()\n"
   ]
  },
  {
   "cell_type": "code",
   "execution_count": null,
   "metadata": {
    "collapsed": true
   },
   "outputs": [],
   "source": []
  }
 ],
 "metadata": {
  "kernelspec": {
   "display_name": "Python 3",
   "language": "python",
   "name": "python3"
  },
  "language_info": {
   "codemirror_mode": {
    "name": "ipython",
    "version": 3
   },
   "file_extension": ".py",
   "mimetype": "text/x-python",
   "name": "python",
   "nbconvert_exporter": "python",
   "pygments_lexer": "ipython3",
   "version": "3.6.1"
  }
 },
 "nbformat": 4,
 "nbformat_minor": 2
}
