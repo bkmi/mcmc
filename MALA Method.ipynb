{
 "cells": [
  {
   "cell_type": "code",
   "execution_count": null,
   "metadata": {
    "collapsed": true
   },
   "outputs": [],
   "source": [
    "import numpy as np\n",
    "import pandas as pd\n",
    "import matplotlib.pyplot as plt\n",
    "import distributions as dist\n",
    "from metropolis import acceptance_rate_per_step, conditional_prob, mala_step"
   ]
  },
  {
   "cell_type": "markdown",
   "metadata": {},
   "source": [
    "# General Setup\n",
    "\n",
    "We have a target distribution and we will try to sample from it using Metropolis-Hastings MCMC with MALA proposal technqiues using various proposal distributions.\n",
    "\n",
    "Some useful links were found here:  \n",
    "https://en.wikipedia.org/wiki/Metropolis-adjusted_Langevin_algorithm  \n",
    "http://www.mcmchandbook.net/HandbookChapter1.pdf  \n",
    "https://theclevermachine.wordpress.com/2012/11/19/a-gentle-introduction-to-markov-chain-monte-carlo-mcmc/  "
   ]
  },
  {
   "cell_type": "code",
   "execution_count": null,
   "metadata": {},
   "outputs": [],
   "source": [
    "# Select bimodal\n",
    "if True:\n",
    "    mean1 = [2, 0]\n",
    "    cov1 = [[1, 0], [0, 1]]\n",
    "\n",
    "    mean2 = [-2, 0]\n",
    "    cov2 = [[1, 0], [0, 1]]\n",
    "\n",
    "    tau = 1.0\n",
    "    \n",
    "    rv = dist.bimodal_dist(mean1, mean2, cov1, cov2)\n",
    "    \n",
    "# Select parabolic gaussian\n",
    "if False:\n",
    "    mean = [0, 0]\n",
    "    cov = [[1, 0], [0, 5]]\n",
    "    \n",
    "    tau = 0.3\n",
    "\n",
    "    rv = dist.parabolic_gaussian(mean, cov, warp=0.9)\n",
    "    \n",
    "# Select streched gaussian\n",
    "if False:\n",
    "    mean = [0, 0]\n",
    "    cov = [[1, 0], [0, 100]]\n",
    "    \n",
    "    tau = 1.0\n",
    "    \n",
    "    rv = dist.stretched_normal(mean, cov)"
   ]
  },
  {
   "cell_type": "code",
   "execution_count": null,
   "metadata": {},
   "outputs": [],
   "source": [
    "# Samples\n",
    "fig1 = plt.figure()\n",
    "ax1 = fig1.add_subplot(111)\n",
    "ax1.plot(*rv.rvs(1000).T, 'o')\n",
    "ax1.axis('equal')\n",
    "plt.show()\n",
    "\n",
    "x, y = np.mgrid[-10:10:.1,\n",
    "                -10:10:.1]\n",
    "pos = np.dstack((x, y))\n",
    "\n",
    "# pdf\n",
    "fig2 = plt.figure()\n",
    "ax2 = fig2.add_subplot(111)\n",
    "ax2.contourf(x, y, rv.pdf(pos))\n",
    "plt.show()\n",
    "\n",
    "# logpdf\n",
    "fig3 = plt.figure()\n",
    "ax3 = fig3.add_subplot(111)\n",
    "ax3.contourf(x, y, rv.logpdf(pos))\n",
    "plt.show()"
   ]
  },
  {
   "cell_type": "code",
   "execution_count": null,
   "metadata": {},
   "outputs": [],
   "source": [
    "# magnitude of gradpdf\n",
    "fig2 = plt.figure()\n",
    "ax2 = fig2.add_subplot(111)\n",
    "ax2.contourf(x, y, np.linalg.norm(rv.grad_pdf(pos), axis=0))\n",
    "plt.show()\n",
    "\n",
    "# magnitude of grad log pdf\n",
    "fig2 = plt.figure()\n",
    "ax2 = fig2.add_subplot(111)\n",
    "ax2.contourf(x, y, np.linalg.norm(rv.grad_logpdf(pos), axis=0))\n",
    "plt.show()"
   ]
  },
  {
   "cell_type": "markdown",
   "metadata": {},
   "source": [
    "## MALA Proposal\n",
    "\n",
    "We propose by suggesting the state plus the gradient of the target distribution at the state plus a small random motion.\n",
    "\n",
    "Note, for reference, the derivate with respect to the state of our target distribution is given by:\n",
    "\\begin{equation}\n",
    "    \\frac{\\partial \\pi(\\mathbf{x})}{\\partial\\mathbf{x}}=-\\frac{1}{\\sqrt{det(2\\pi\\mathbf{\\Sigma})}}exp\\left[-\\frac{1}{2}(\\mathbf{x}-\\mathbf{m})^{T}\\mathbf{\\Sigma}^{-1}(\\mathbf{x}-\\mathbf{m})\\right]\\mathbf{\\Sigma}^{-1}(\\mathbf{x}-\\mathbf{m})\n",
    "\\end{equation}\n",
    "\n",
    "However, this is a bit irrelevant since I am looking for the gradient at the state. I.e. $\\nabla\\pi(\\textbf{x})$ I will do it numerically."
   ]
  },
  {
   "cell_type": "code",
   "execution_count": null,
   "metadata": {},
   "outputs": [],
   "source": [
    "# MCMC Execution\n",
    "states = [np.array([0,0])]\n",
    "steps = 1000\n",
    "\n",
    "for i in range(steps):\n",
    "    states.append(mala_step(states[-1], rv, v=False, log=True, tau=tau))\n",
    "    \n",
    "states = np.asarray(states)"
   ]
  },
  {
   "cell_type": "code",
   "execution_count": null,
   "metadata": {},
   "outputs": [],
   "source": [
    "# Acceptance rate plot\n",
    "acps = acceptance_rate_per_step(states)\n",
    "plt.figure(figsize=(8, 4))\n",
    "plt.plot(range(steps), acps)\n",
    "plt.xlabel('Steps')\n",
    "plt.ylabel('Acceptance Rate')\n",
    "plt.show()"
   ]
  },
  {
   "cell_type": "code",
   "execution_count": null,
   "metadata": {},
   "outputs": [],
   "source": [
    "# Sample and trace plots\n",
    "df = pd.DataFrame(states, columns=[\"x\", \"y\"])\n",
    "\n",
    "plt.figure(1, figsize=(8,8))\n",
    "plt.subplot(121)\n",
    "plt.scatter(df.x, df.y, c=rv.pdf(states))\n",
    "plt.axis('equal')\n",
    "plt.title('Samples plot')\n",
    "plt.xlabel('x')\n",
    "plt.ylabel('y')\n",
    "\n",
    "plt.subplot(222)\n",
    "plt.plot(np.arange(states.shape[0]), df.x)\n",
    "plt.title('Trace plot')\n",
    "plt.xlabel('Steps')\n",
    "plt.ylabel('x')\n",
    "\n",
    "plt.subplot(224)\n",
    "plt.plot(np.arange(states.shape[0]), df.y)\n",
    "plt.xlabel('Steps')\n",
    "plt.ylabel('y')\n",
    "\n",
    "plt.show()"
   ]
  },
  {
   "cell_type": "code",
   "execution_count": null,
   "metadata": {
    "collapsed": true
   },
   "outputs": [],
   "source": []
  }
 ],
 "metadata": {
  "kernelspec": {
   "display_name": "Python 3",
   "language": "python",
   "name": "python3"
  },
  "language_info": {
   "codemirror_mode": {
    "name": "ipython",
    "version": 3
   },
   "file_extension": ".py",
   "mimetype": "text/x-python",
   "name": "python",
   "nbconvert_exporter": "python",
   "pygments_lexer": "ipython3",
   "version": "3.6.1"
  }
 },
 "nbformat": 4,
 "nbformat_minor": 2
}
